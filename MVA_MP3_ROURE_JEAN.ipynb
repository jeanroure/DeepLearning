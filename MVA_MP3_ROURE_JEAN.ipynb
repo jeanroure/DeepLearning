{
 "cells": [
  {
   "cell_type": "markdown",
   "metadata": {},
   "source": [
    "**You may need to install [OpenCV](https://pypi.python.org/pypi/opencv-python) and [scikit-video](http://www.scikit-video.org/stable/).**"
   ]
  },
  {
   "cell_type": "code",
   "execution_count": 1,
   "metadata": {},
   "outputs": [
    {
     "name": "stderr",
     "output_type": "stream",
     "text": [
      "Using TensorFlow backend.\n"
     ]
    }
   ],
   "source": [
    "import keras\n",
    "import numpy as np\n",
    "import io\n",
    "import base64\n",
    "from IPython.display import HTML\n",
    "import skvideo\n",
    "skvideo.setFFmpegPath(\"/usr/local/bin\")\n",
    "import skvideo.io\n",
    "import cv2\n",
    "import json\n",
    "import random\n",
    "\n",
    "from keras.models import Sequential,model_from_json\n",
    "from keras.layers.core import Dense\n",
    "from keras.optimizers import sgd\n",
    "from keras.layers import Conv2D, MaxPooling2D, Activation, AveragePooling2D,Reshape,BatchNormalization,Flatten"
   ]
  },
  {
   "cell_type": "markdown",
   "metadata": {},
   "source": [
    "# MiniProject #3: Deep Reinforcement Learning"
   ]
  },
  {
   "cell_type": "markdown",
   "metadata": {},
   "source": [
    "__Notations__: $E_p$ is the expectation under probability $p$. Please justify each of your answer and widely comment your code."
   ]
  },
  {
   "cell_type": "markdown",
   "metadata": {},
   "source": [
    "# Context"
   ]
  },
  {
   "cell_type": "markdown",
   "metadata": {},
   "source": [
    "In a reinforcement learning algorithm, we modelize each step $t$ as an action $a_t$ obtained from a state $s_t$, i.e. $\\{(a_{t},s_{t})_{t\\leq T}\\}$ having the Markov property. We consider a discount factor $\\gamma \\in [0,1]$ that ensures convergence. The goal is to find among all the policies $\\pi$, one that maximizes the expected reward:\n",
    "\n",
    "\\begin{equation*}\n",
    "R(\\pi)=\\sum_{t\\leq T}E_{p^{\\pi}}[\\gamma^t r(s_{t},a_{t})] \\> ,\n",
    "\\end{equation*}\n",
    "\n",
    "where: \n",
    "\\begin{equation*}p^{\\pi}(a_{0},a_{1},s_{1},...,a_{T},s_{T})=p(a_{0})\\prod_{t=1}^{T}\\pi(a_{t}|s_{t})p(s_{t+1}|s_{t},a_{t}) \\> .\n",
    "\\end{equation*}\n",
    "\n",
    "We note the $Q$-function:\n",
    "\n",
    "\\begin{equation*}Q^\\pi(s,a)=E_{p^{\\pi}}[\\sum_{t\\leq T}\\gamma^{t}r(s_{t},a_{t})|s_{0}=s,a_{0}=a] \\> .\n",
    "\\end{equation*}\n",
    "\n",
    "Thus, the optimal Q function is:\n",
    "\\begin{equation*}\n",
    "Q^*(s,a)=\\max_{\\pi}Q^\\pi(s,a) \\> .\n",
    "\\end{equation*}\n",
    "\n",
    "In this project, we will apply the deep reinforcement learning techniques to a simple game: an agent will have to learn from scratch a policy that will permit it maximizing a reward."
   ]
  },
  {
   "cell_type": "markdown",
   "metadata": {},
   "source": [
    "## The environment, the agent and the game"
   ]
  },
  {
   "cell_type": "markdown",
   "metadata": {},
   "source": [
    "### The environment"
   ]
  },
  {
   "cell_type": "markdown",
   "metadata": {},
   "source": [
    "```Environment``` is an abstract class that represents the states, rewards, and actions to obtain the new state."
   ]
  },
  {
   "cell_type": "code",
   "execution_count": 2,
   "metadata": {},
   "outputs": [],
   "source": [
    "class Environment(object):\n",
    "    def __init__(self):\n",
    "        pass\n",
    "\n",
    "    def act(self, act):\n",
    "        \"\"\"\n",
    "        One can act on the environment and obtain its reaction:\n",
    "        - the new state\n",
    "        - the reward of the new state\n",
    "        - should we continue the game?\n",
    "\n",
    "        :return: state, reward, game_over\n",
    "        \"\"\"\n",
    "        pass\n",
    "\n",
    "\n",
    "    def reset(self):\n",
    "        \"\"\"\n",
    "        Reinitialize the environment to a random state and returns\n",
    "        the original state\n",
    "\n",
    "        :return: state\n",
    "        \"\"\"\n",
    "        pass\n",
    "    \n",
    "    def draw(self):\n",
    "        \"\"\"\n",
    "        Visualize in the console or graphically the current state\n",
    "        \"\"\"\n",
    "        pass"
   ]
  },
  {
   "cell_type": "markdown",
   "metadata": {},
   "source": [
    "The method ```act``` allows to act on the environment at a given state $s_t$ (stored internally), via action $a_t$. The method will return the new state $s_{t+1}$, the reward $r(s_{t},a_{t})$ and determines if $t\\leq T$ (*game_over*).\n",
    "\n",
    "The method ```reset``` simply reinitializes the environment to a random state $s_0$.\n",
    "\n",
    "The method ```draw``` displays the current state $s_t$ (this is useful to check the behavior of the Agent).\n",
    "\n",
    "We modelize $s_t$ as a tensor, while $a_t$ is an integer."
   ]
  },
  {
   "cell_type": "markdown",
   "metadata": {},
   "source": [
    "### The Agent"
   ]
  },
  {
   "cell_type": "markdown",
   "metadata": {},
   "source": [
    "The goal of the ```Agent``` is to interact with the ```Environment``` by proposing actions $a_t$ obtained from a given state $s_t$ to attempt to maximize its __reward__ $r(s_t,a_t)$. We propose the following abstract class:"
   ]
  },
  {
   "cell_type": "code",
   "execution_count": 3,
   "metadata": {},
   "outputs": [],
   "source": [
    "class Agent(object):\n",
    "    def __init__(self, epsilon=0.1, n_action=4):\n",
    "        self.epsilon = epsilon\n",
    "        self.n_action = n_action\n",
    "    \n",
    "    def set_epsilon(self,e):\n",
    "        self.epsilon = e\n",
    "\n",
    "    def act(self,s,train=True):\n",
    "        \"\"\" This function should return the next action to do:\n",
    "        an integer between 0 and 4 (not included) with a random exploration of epsilon\"\"\"\n",
    "        if train:\n",
    "            if np.random.rand() <= self.epsilon:\n",
    "                a = np.random.randint(0, self.n_action, size=1)[0]\n",
    "            else:\n",
    "                a = self.learned_act(s)\n",
    "        else: # in some cases, this can improve the performance.. remove it if poor performances\n",
    "            a = self.learned_act(s)\n",
    "\n",
    "        return a\n",
    "\n",
    "    def learned_act(self,s):\n",
    "        \"\"\" Act via the policy of the agent, from a given state s\n",
    "        it proposes an action a\"\"\"\n",
    "        pass\n",
    "\n",
    "    def reinforce(self, s, n_s, a, r, game_over_):\n",
    "        \"\"\" This function is the core of the learning algorithm. \n",
    "        It takes as an input the current state s_, the next state n_s_\n",
    "        the action a_ used to move from s_ to n_s_ and the reward r_.\n",
    "        \n",
    "        Its goal is to learn a policy.\n",
    "        \"\"\"\n",
    "        pass\n",
    "\n",
    "    def save(self):\n",
    "        \"\"\" This function returns basic stats if applicable: the\n",
    "        loss and/or the model\"\"\"\n",
    "        pass\n",
    "\n",
    "    def load(self):\n",
    "        \"\"\" This function allows to restore a model\"\"\"\n",
    "        pass"
   ]
  },
  {
   "cell_type": "markdown",
   "metadata": {},
   "source": [
    "***\n",
    "__Question 1__:\n",
    "Explain the function act. Why is ```epsilon``` essential?"
   ]
  },
  {
   "cell_type": "markdown",
   "metadata": {},
   "source": [
    "As far as I am concerned, I think that the function __act__ tells what is the next step of the agent, given the current state. Here, the epsilon is essential since this parameter allows to control the exploration in the sense that an action will be performed according to the probability epsilon. If epsilon = 0, then the next action will be chosen based on what have been learnt. There will be no exploration. On the contrary, if epsilon = 1, the next action is chosen randomly ; it will only consist in exploration. As a matter of fact, it must be chosen very carefully. "
   ]
  },
  {
   "cell_type": "markdown",
   "metadata": {},
   "source": [
    "***\n",
    "### The Game"
   ]
  },
  {
   "cell_type": "markdown",
   "metadata": {},
   "source": [
    "The ```Agent``` and the ```Environment``` work in an interlaced way as in the following (take some time to understand this code as it is the core of the project)\n",
    "\n",
    "```python\n",
    "\n",
    "epoch = 300\n",
    "env = Environment()\n",
    "agent = Agent()\n",
    "\n",
    "\n",
    "# Number of won games\n",
    "score = 0\n",
    "loss = 0\n",
    "\n",
    "\n",
    "for e in range(epoch):\n",
    "    # At each epoch, we restart to a fresh game and get the initial state\n",
    "    state = env.reset()\n",
    "    # This assumes that the games will end\n",
    "    game_over = False\n",
    "\n",
    "    win = 0\n",
    "    lose = 0\n",
    "    \n",
    "    while not game_over:\n",
    "        # The agent performs an action\n",
    "        action = agent.act(state)\n",
    "\n",
    "        # Apply an action to the environment, get the next state, the reward\n",
    "        # and if the games end\n",
    "        prev_state = state\n",
    "        state, reward, game_over = env.act(action)\n",
    "\n",
    "        # Update the counters\n",
    "        if reward > 0:\n",
    "            win = win + reward\n",
    "        if reward < 0:\n",
    "            lose = lose -reward\n",
    "\n",
    "        # Apply the reinforcement strategy\n",
    "        loss = agent.reinforce(prev_state, state,  action, reward, game_over)\n",
    "\n",
    "    # Save as a mp4\n",
    "    if e % 10 == 0:\n",
    "        env.draw(e)\n",
    "\n",
    "    # Update stats\n",
    "    score += win-lose\n",
    "\n",
    "    print(\"Epoch {:03d}/{:03d} | Loss {:.4f} | Win/lose count {}/{} ({})\"\n",
    "          .format(e, epoch, loss, win, lose, win-lose))\n",
    "    agent.save()\n",
    "```"
   ]
  },
  {
   "cell_type": "markdown",
   "metadata": {},
   "source": [
    "# The game, *eat cheese*"
   ]
  },
  {
   "cell_type": "markdown",
   "metadata": {},
   "source": [
    "A rat runs on an island and tries to eat as much as possible. The island is subdivided into $N\\times N$ cells, in which there are cheese (+0.5) and poisonous cells (-1). The rat has a visibility of 2 cells (thus it can see $5^2$ cells). The rat is given a time $T$ to accumulate as much food as possible. It can perform 4 actions: going up, down, left, right. \n",
    "\n",
    "The goal is to code an agent to solve this task that will learn by trial and error. We propose the following environment:"
   ]
  },
  {
   "cell_type": "code",
   "execution_count": 4,
   "metadata": {},
   "outputs": [],
   "source": [
    "class Environment(object):\n",
    "    def __init__(self, grid_size=10, max_time=500, temperature=0.1):\n",
    "        grid_size = grid_size+4\n",
    "        self.grid_size = grid_size\n",
    "        self.max_time = max_time\n",
    "        self.temperature = temperature\n",
    "\n",
    "        #board on which one plays\n",
    "        self.board = np.zeros((grid_size,grid_size))\n",
    "        self.position = np.zeros((grid_size,grid_size))\n",
    "\n",
    "        # coordinate of the cat\n",
    "        self.x = 0\n",
    "        self.y = 1\n",
    "\n",
    "        # self time\n",
    "        self.t = 0\n",
    "\n",
    "        self.scale=16\n",
    "\n",
    "        self.to_draw = np.zeros((max_time+2, grid_size*self.scale, grid_size*self.scale, 3))\n",
    "\n",
    "\n",
    "    def draw(self,e):\n",
    "        skvideo.io.vwrite(str(e) + '.mp4', self.to_draw)\n",
    "\n",
    "    def get_frame(self,t):\n",
    "        b = np.zeros((self.grid_size,self.grid_size,3))+128\n",
    "        b[self.board > 0,0] = 256\n",
    "        b[self.board < 0, 2] = 256\n",
    "        b[self.x,self.y,:]=256\n",
    "        b[-2:,:,:] =0\n",
    "        b[:,-2:,:] =0\n",
    "        b[:2,:,:] =0\n",
    "        b[:,:2,:] =0\n",
    "        \n",
    "        b =  cv2.resize(b, None, fx=self.scale, fy=self.scale, interpolation=cv2.INTER_NEAREST)\n",
    "\n",
    "        self.to_draw[t,:,:,:]=b\n",
    "\n",
    "\n",
    "    def act(self, action):\n",
    "        \"\"\"This function returns the new state, reward and decides if the\n",
    "        game ends.\"\"\"\n",
    "\n",
    "        self.get_frame(int(self.t))\n",
    "\n",
    "        self.position = np.zeros((self.grid_size, self.grid_size))\n",
    "\n",
    "        self.position[0:2,:]= -1\n",
    "        self.position[:,0:2] = -1\n",
    "        self.position[-2:, :] = -1 \n",
    "        self.position[:, -2:] = -1 \n",
    "\n",
    "        self.position[self.x, self.y] = 1\n",
    "        if action == 0:\n",
    "            if self.x == self.grid_size-3:\n",
    "                self.x = self.x-1\n",
    "            else:\n",
    "                self.x = self.x + 1\n",
    "        elif action == 1:\n",
    "            if self.x == 2:\n",
    "                self.x = self.x+1\n",
    "            else:\n",
    "                self.x = self.x-1\n",
    "        elif action == 2:\n",
    "            if self.y == self.grid_size - 3:\n",
    "                self.y = self.y - 1\n",
    "            else:\n",
    "                self.y = self.y + 1\n",
    "        elif action == 3:\n",
    "            if self.y == 2:\n",
    "                self.y = self.y + 1\n",
    "            else:\n",
    "                self.y = self.y - 1\n",
    "        else:\n",
    "            RuntimeError('Error: action not recognized')\n",
    "\n",
    "        self.t = self.t + 1\n",
    "        reward = self.board[self.x, self.y]\n",
    "        self.board[self.x, self.y] = 0\n",
    "        game_over = self.t > self.max_time\n",
    "        state = np.concatenate((self.board.reshape(self.grid_size, self.grid_size,1),\n",
    "                        self.position.reshape(self.grid_size, self.grid_size,1)),axis=2)\n",
    "        state = state[self.x-2:self.x+3,self.y-2:self.y+3,:]\n",
    "\n",
    "        return state, reward, game_over\n",
    "\n",
    "    def reset(self):\n",
    "        \"\"\"This function resets the game and returns the initial state\"\"\"\n",
    "\n",
    "        self.x = np.random.randint(3, self.grid_size-3, size=1)[0]\n",
    "        self.y = np.random.randint(3, self.grid_size-3, size=1)[0]\n",
    "        \n",
    "        bonus = 0.5*np.random.binomial(1,self.temperature,size=self.grid_size**2)\n",
    "        bonus = bonus.reshape(self.grid_size,self.grid_size)\n",
    "\n",
    "        malus = -1.0*np.random.binomial(1,self.temperature,size=self.grid_size**2)\n",
    "        malus = malus.reshape(self.grid_size, self.grid_size)\n",
    "\n",
    "        self.to_draw = np.zeros((self.max_time+2, self.grid_size*self.scale, self.grid_size*self.scale, 3))\n",
    "\n",
    "\n",
    "        malus[bonus>0]=0\n",
    "\n",
    "        self.board = bonus + malus\n",
    "\n",
    "        self.position = np.zeros((self.grid_size, self.grid_size))\n",
    "        self.position[0:2,:]= -1\n",
    "        self.position[:,0:2] = -1\n",
    "        self.position[-2:, :] = -1\n",
    "        self.position[:, -2:] = -1\n",
    "        self.board[self.x,self.y] = 0\n",
    "        self.t = 0\n",
    "\n",
    "        state = np.concatenate((self.board.reshape(self.grid_size, self.grid_size,1),\n",
    "                        self.position.reshape(self.grid_size, self.grid_size,1)),axis=2)\n",
    "\n",
    "        state = state[self.x - 2:self.x + 3, self.y - 2:self.y + 3, :]\n",
    "        return state"
   ]
  },
  {
   "cell_type": "markdown",
   "metadata": {},
   "source": [
    "The following elements are important because they correspond to the hyper parameters for this project:"
   ]
  },
  {
   "cell_type": "code",
   "execution_count": 5,
   "metadata": {},
   "outputs": [],
   "source": [
    "# parameters\n",
    "size = 13\n",
    "T=200\n",
    "temperature=0.3\n",
    "epochs_train= 30 # set small when debugging\n",
    "epochs_test= 10 # set small when debugging\n",
    "\n",
    "# display videos\n",
    "def display_videos(name):\n",
    "    video = io.open(name, 'r+b').read()\n",
    "    encoded = base64.b64encode(video)\n",
    "    return '''<video alt=\"test\" controls>\n",
    "                <source src=\"data:video/mp4;base64,{0}\" type=\"video/mp4\" />\n",
    "             </video>'''.format(encoded.decode('ascii'))"
   ]
  },
  {
   "cell_type": "markdown",
   "metadata": {},
   "source": [
    "__Question 2__ Explain the use of the arrays ```position``` and ```board```."
   ]
  },
  {
   "cell_type": "markdown",
   "metadata": {},
   "source": [
    "On the one hand, the board shows where there is a reward, cheese (+0.5), nothing(0) or poison (-1). In other words, it is a matrix filled with either negative, nulle, or positive values, depending on the presence of a reward or not. \n",
    "On the other hand, the position is also a matrix which represents the state of the rat, where it is at the current moment. It also represents the location where the rat cannot go. "
   ]
  },
  {
   "cell_type": "markdown",
   "metadata": {},
   "source": [
    "## Random Agent"
   ]
  },
  {
   "cell_type": "markdown",
   "metadata": {},
   "source": [
    "***\n",
    "__Question 3__ Implement a random Agent (only ```learned_act``` needs to be implemented): __DONE__"
   ]
  },
  {
   "cell_type": "code",
   "execution_count": 6,
   "metadata": {},
   "outputs": [],
   "source": [
    "class RandomAgent(Agent):\n",
    "    def __init__(self):\n",
    "        super(RandomAgent, self).__init__()\n",
    "        pass\n",
    "\n",
    "    def learned_act(self, s):\n",
    "        return np.random.randint(self.n_action)"
   ]
  },
  {
   "cell_type": "markdown",
   "metadata": {},
   "source": [
    "***\n",
    "***\n",
    "__Question 4__ Visualize the game moves. You need to fill in the following function for the evaluation: __DONE__"
   ]
  },
  {
   "cell_type": "code",
   "execution_count": 7,
   "metadata": {},
   "outputs": [],
   "source": [
    "def test(agent,env,epochs,prefix=''):\n",
    "    # Number of won games\n",
    "    score = 0\n",
    "        \n",
    "    for e in range(epochs):\n",
    "        state = env.reset() #Here, we restart the game so the we have the initial states\n",
    "    \n",
    "        win = 0 # Initilisation of the rewards\n",
    "        lose = 0\n",
    "        game_over = False\n",
    "        \n",
    "        while not game_over: \n",
    "            action = agent.act(state, train = False) # Here, the agent (the rat) will perform an action\n",
    "            prev_state = state #The actual state become the previous one and so on\n",
    "            state,reward,game_over = env.act(action)\n",
    "            \n",
    "            if reward > 0: #Actualisation of the rewards\n",
    "                win = win + reward \n",
    "            if reward < 0:\n",
    "                lose = lose - reward\n",
    "    \n",
    "        \n",
    "        # Save as a mp4\n",
    "        env.draw(prefix+str(e))\n",
    "\n",
    "        # Update stats\n",
    "        score = score + win-lose\n",
    "\n",
    "        print(\"Win/lose count {}/{}. Average score ({})\"\n",
    "              .format(win, lose, score/(1+e)))\n",
    "    print('Final score: '+str(score/epochs))"
   ]
  },
  {
   "cell_type": "code",
   "execution_count": 8,
   "metadata": {},
   "outputs": [
    {
     "name": "stdout",
     "output_type": "stream",
     "text": [
      "Win/lose count 7.5/10.0. Average score (-2.5)\n",
      "Win/lose count 9.0/11.0. Average score (-2.25)\n",
      "Win/lose count 7.5/8.0. Average score (-1.6666666666666667)\n",
      "Win/lose count 10.5/18.0. Average score (-3.125)\n",
      "Win/lose count 4.0/6.0. Average score (-2.9)\n",
      "Win/lose count 7.5/16.0. Average score (-3.8333333333333335)\n",
      "Win/lose count 5.0/12.0. Average score (-4.285714285714286)\n",
      "Win/lose count 10.0/10.0. Average score (-3.75)\n",
      "Win/lose count 6.0/11.0. Average score (-3.888888888888889)\n",
      "Win/lose count 9.5/12.0. Average score (-3.75)\n",
      "Final score: -3.75\n"
     ]
    },
    {
     "data": {
      "text/html": [
       "<video alt=\"test\" controls>\n",
       "                <source src=\"data:video/mp4;base64,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\" type=\"video/mp4\" />\n",
       "             </video>"
      ],
      "text/plain": [
       "<IPython.core.display.HTML object>"
      ]
     },
     "execution_count": 8,
     "metadata": {},
     "output_type": "execute_result"
    }
   ],
   "source": [
    "# Initialize the game\n",
    "env = Environment(grid_size=size, max_time=T,temperature=temperature)\n",
    "\n",
    "# Initialize the agent!\n",
    "agent = RandomAgent()\n",
    "test(agent,env,epochs_test,prefix='random')\n",
    "HTML(display_videos('random0.mp4'))"
   ]
  },
  {
   "cell_type": "markdown",
   "metadata": {},
   "source": [
    "***\n",
    "## DQN TO DO"
   ]
  },
  {
   "cell_type": "markdown",
   "metadata": {},
   "source": [
    "Let us assume here that $T=\\infty$.\n",
    "\n",
    "***\n",
    "__Question 5__ Let $\\pi$ be a policy, show that:\n",
    "\n",
    "\n",
    "\\begin{equation*}\n",
    "Q^{\\pi}(s,a)=E_{(s',a')\\sim p(.|s,a)}[r(s,a)+\\gamma Q^{\\pi}(s',a')]\n",
    "\\end{equation*}\n",
    "\n"
   ]
  },
  {
   "cell_type": "markdown",
   "metadata": {},
   "source": [
    "Then, show that for the optimal policy $\\pi^*$ (we assume its existence), the following holds: "
   ]
  },
  {
   "cell_type": "markdown",
   "metadata": {},
   "source": [
    "Finally, deduce that a plausible objective is:\n",
    "\n",
    "\\begin{equation*}\n",
    "\\mathcal{L}(\\theta)=E_{s' \\sim \\pi^*(.|s,a)}\\Vert r+\\gamma\\max\\max_{a'}Q(s',a',\\theta)-Q(s,a,\\theta)\\Vert^{2}.\n",
    "\\end{equation*}"
   ]
  },
  {
   "cell_type": "markdown",
   "metadata": {},
   "source": [
    "***\n",
    "The DQN-learning algorithm relies on these derivations to train the parameters $\\theta$ of a Deep Neural Network:\n",
    "\n",
    "1. At the state $s_t$, select the action $a_t$ with best reward using $Q_t$ and store the results;\n",
    "\n",
    "2. Obtain the new state $s_{t+1}$ from the environment $p$;\n",
    "\n",
    "3. Store $(s_t,a_t,s_{t+1})$;\n",
    "\n",
    "4. Obtain $Q_{t+1}$ by minimizing  $\\mathcal{L}$ from a recovered batch from the previously stored results.\n",
    "\n",
    "***\n",
    "__Question 6__ Implement the class ```Memory``` that stores moves (in a replay buffer) via ```remember``` and provides a ```random_access``` to these. Specify a maximum memory size to avoid side effects. You can for example use a ```list()``` and set by default ```max_memory=100```. __DONE__"
   ]
  },
  {
   "cell_type": "code",
   "execution_count": 9,
   "metadata": {},
   "outputs": [],
   "source": [
    "class Memory(object):\n",
    "    def __init__(self, max_memory=100):\n",
    "        self.max_memory = max_memory\n",
    "        self.memory = list()\n",
    "\n",
    "    def remember(self, m):\n",
    "        self.memory.append(m)\n",
    "        if len(self.memory) > self.max_memory:\n",
    "            self.memory.pop(0)\n",
    "        \n",
    "    def random_access(self):\n",
    "        return self.memory[np.random.randint(len(self.memory))]\n"
   ]
  },
  {
   "cell_type": "markdown",
   "metadata": {},
   "source": [
    "***\n",
    "The pipeline we will use for training is given below:"
   ]
  },
  {
   "cell_type": "code",
   "execution_count": 10,
   "metadata": {},
   "outputs": [],
   "source": [
    "def train(agent,env,epoch,prefix=''):\n",
    "    # Number of won games\n",
    "    score = 0\n",
    "    loss = 0\n",
    "\n",
    "    for e in range(epoch):\n",
    "        # At each epoch, we restart to a fresh game and get the initial state\n",
    "        state = env.reset()\n",
    "        # This assumes that the games will terminate\n",
    "        game_over = False\n",
    "\n",
    "        win = 0\n",
    "        lose = 0\n",
    "\n",
    "        while not game_over:\n",
    "            # The agent performs an action\n",
    "            action = agent.act(state)\n",
    "\n",
    "            # Apply an action to the environment, get the next state, the reward\n",
    "            # and if the games end\n",
    "            prev_state = state\n",
    "            state, reward, game_over = env.act(action)\n",
    "\n",
    "            # Update the counters\n",
    "            if reward > 0:\n",
    "                win = win + reward\n",
    "            if reward < 0:\n",
    "                lose = lose -reward\n",
    "\n",
    "            # Apply the reinforcement strategy\n",
    "            loss = agent.reinforce(prev_state, state,  action, reward, game_over)\n",
    "\n",
    "        # Save as a mp4\n",
    "        if e % 10 == 0:\n",
    "            env.draw(prefix+str(e))\n",
    "\n",
    "        # Update stats\n",
    "        score += win-lose\n",
    "\n",
    "        print(\"Epoch {:03d}/{:03d} | Loss {:.4f} | Win/lose count {}/{} ({})\"\n",
    "              .format(e, epoch, loss, win, lose, win-lose))\n",
    "        agent.save(name_weights=prefix+'model.h5',name_model=prefix+'model.json')"
   ]
  },
  {
   "cell_type": "markdown",
   "metadata": {},
   "source": [
    "***\n",
    "__Question 7__ Implement the DQN training algorithm using a cascade of fully connected layers. You can use different learning rate, batch size or memory size parameters. In particular, the loss might oscillate while the player will start to win the games. You have to find a good criterium."
   ]
  },
  {
   "cell_type": "code",
   "execution_count": 11,
   "metadata": {},
   "outputs": [],
   "source": [
    "class DQN(Agent):\n",
    "    def __init__(self, grid_size,  epsilon = 0.1, memory_size=100, batch_size = 16,n_state=2):\n",
    "        super(DQN, self).__init__(epsilon = epsilon)\n",
    "\n",
    "        # Discount for Q learning\n",
    "        self.discount = 0.99\n",
    "        self.grid_size = grid_size\n",
    "        \n",
    "        # number of state\n",
    "        self.n_state = n_state\n",
    "\n",
    "        # Memory\n",
    "        self.memory = Memory(memory_size)\n",
    "        \n",
    "        # Batch size when learning\n",
    "        self.batch_size = batch_size\n",
    "\n",
    "        \n",
    "        \n",
    "        \n",
    "    def learned_act(self, s):    \n",
    "        return np.argmax(self.model.predict(np.array([s]))[0])\n",
    "    \n",
    "    \n",
    "                         \n",
    "    def reinforce(self, s_, n_s_, a_, r_, game_over_):\n",
    "        # Two steps: first memorize the states, second learn from the pool\n",
    "        self.memory.remember([s_, n_s_, a_, r_, game_over_])\n",
    "        input_states = np.zeros((self.batch_size, 5,5,self.n_state))\n",
    "        target_q = np.zeros((self.batch_size, 4))\n",
    "        \n",
    "        \n",
    "        for i in range(self.batch_size):\n",
    "            s_, n_s_, a_, r_, game_over_ = self.memory.random_access()\n",
    "            input_states[i] = s_  \n",
    "            target_q[i, :] = self.model.predict(np.array([s_]))[0]\n",
    "            \n",
    "            if game_over_:\n",
    "                target_q[i, a_] = r_        \n",
    "            else:\n",
    "                target_q[i, a_] = r_ + self.discount * np.max(self.model.predict(np.array([n_s_]))[0])\n",
    "                \n",
    "                \n",
    "        target_q = np.clip(target_q, -3, 3)\n",
    "        l = self.model.train_on_batch(input_states, target_q)\n",
    "        return l\n",
    "                                     \n",
    "\n",
    "    def save(self,name_weights='model.h5',name_model='model.json'):\n",
    "        self.model.save_weights(name_weights, overwrite=True)\n",
    "        with open(name_model, \"w\") as outfile:\n",
    "            json.dump(self.model.to_json(), outfile)\n",
    "                        \n",
    "                         \n",
    "    def load(self,name_weights='model.h5',name_model='model.json'):\n",
    "        with open(name_model, \"r\") as jfile:\n",
    "            model = model_from_json(json.load(jfile))\n",
    "        model.load_weights(name_weights)\n",
    "        model.compile(\"sgd\", \"mse\")\n",
    "        self.model = model\n",
    "\n",
    "            \n",
    "class DQN_FC(DQN):\n",
    "    def __init__(self, *args, lr=0.1,**kwargs):\n",
    "        super(DQN_FC, self).__init__( *args,**kwargs)\n",
    "         \n",
    "        model = Sequential()\n",
    "        model.add(Flatten(input_shape = (5, 5, self.n_state)))\n",
    "        model.add(Dense(32, activation = 'relu'))\n",
    "        model.add(Dense(4, activation = 'relu'))\n",
    "        model.compile(sgd(lr=lr, decay=1e-4, momentum=0.0), \"mse\")\n",
    "        self.model = model"
   ]
  },
  {
   "cell_type": "code",
   "execution_count": 12,
   "metadata": {},
   "outputs": [
    {
     "name": "stdout",
     "output_type": "stream",
     "text": [
      "WARNING:tensorflow:From /anaconda3/lib/python3.7/site-packages/tensorflow/python/framework/op_def_library.py:263: colocate_with (from tensorflow.python.framework.ops) is deprecated and will be removed in a future version.\n",
      "Instructions for updating:\n",
      "Colocations handled automatically by placer.\n",
      "WARNING:tensorflow:From /anaconda3/lib/python3.7/site-packages/tensorflow/python/ops/math_ops.py:3066: to_int32 (from tensorflow.python.ops.math_ops) is deprecated and will be removed in a future version.\n",
      "Instructions for updating:\n",
      "Use tf.cast instead.\n",
      "Epoch 000/030 | Loss 0.0133 | Win/lose count 3.5/6.0 (-2.5)\n",
      "Epoch 001/030 | Loss 0.0156 | Win/lose count 9.5/6.0 (3.5)\n",
      "Epoch 002/030 | Loss 0.0088 | Win/lose count 1.0/3.0 (-2.0)\n",
      "Epoch 003/030 | Loss 0.0026 | Win/lose count 1.0/4.0 (-3.0)\n",
      "Epoch 004/030 | Loss 0.0133 | Win/lose count 3.0/6.0 (-3.0)\n",
      "Epoch 005/030 | Loss 0.0119 | Win/lose count 5.0/2.0 (3.0)\n",
      "Epoch 006/030 | Loss 0.0211 | Win/lose count 5.0/9.0 (-4.0)\n",
      "Epoch 007/030 | Loss 0.0124 | Win/lose count 3.0/1.0 (2.0)\n",
      "Epoch 008/030 | Loss 0.0206 | Win/lose count 5.5/6.0 (-0.5)\n",
      "Epoch 009/030 | Loss 0.0088 | Win/lose count 2.0/2.0 (0.0)\n",
      "Epoch 010/030 | Loss 0.0109 | Win/lose count 5.5/3.0 (2.5)\n",
      "Epoch 011/030 | Loss 0.0058 | Win/lose count 4.5/3.0 (1.5)\n",
      "Epoch 012/030 | Loss 0.0081 | Win/lose count 4.5/2.0 (2.5)\n",
      "Epoch 013/030 | Loss 0.0025 | Win/lose count 5.5/6.0 (-0.5)\n",
      "Epoch 014/030 | Loss 0.0101 | Win/lose count 7.5/2.0 (5.5)\n",
      "Epoch 015/030 | Loss 0.0050 | Win/lose count 3.0/2.0 (1.0)\n",
      "Epoch 016/030 | Loss 0.0487 | Win/lose count 3.0/4.0 (-1.0)\n",
      "Epoch 017/030 | Loss 0.0068 | Win/lose count 2.5/2.0 (0.5)\n",
      "Epoch 018/030 | Loss 0.0060 | Win/lose count 7.0/4.0 (3.0)\n",
      "Epoch 019/030 | Loss 0.0036 | Win/lose count 7.0/4.0 (3.0)\n",
      "Epoch 020/030 | Loss 0.0602 | Win/lose count 5.0/5.0 (0.0)\n",
      "Epoch 021/030 | Loss 0.0514 | Win/lose count 5.5/5.0 (0.5)\n",
      "Epoch 022/030 | Loss 0.0075 | Win/lose count 4.5/4.0 (0.5)\n",
      "Epoch 023/030 | Loss 0.0026 | Win/lose count 3.5/3.0 (0.5)\n",
      "Epoch 024/030 | Loss 0.0036 | Win/lose count 8.5/1.0 (7.5)\n",
      "Epoch 025/030 | Loss 0.0023 | Win/lose count 3.5/0 (3.5)\n",
      "Epoch 026/030 | Loss 0.0068 | Win/lose count 12.5/1.0 (11.5)\n",
      "Epoch 027/030 | Loss 0.0072 | Win/lose count 5.0/2.0 (3.0)\n",
      "Epoch 028/030 | Loss 0.0078 | Win/lose count 6.0/4.0 (2.0)\n",
      "Epoch 029/030 | Loss 0.0088 | Win/lose count 6.5/6.0 (0.5)\n"
     ]
    },
    {
     "data": {
      "text/html": [
       "<video alt=\"test\" controls>\n",
       "                <source src=\"data:video/mp4;base64,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\" type=\"video/mp4\" />\n",
       "             </video>"
      ],
      "text/plain": [
       "<IPython.core.display.HTML object>"
      ]
     },
     "execution_count": 12,
     "metadata": {},
     "output_type": "execute_result"
    }
   ],
   "source": [
    "env = Environment(grid_size=size, max_time=T, temperature=temperature)\n",
    "agent = DQN_FC(size, lr=.1, epsilon = 0.1, memory_size=2000, batch_size = 32)\n",
    "train(agent, env, epochs_train, prefix='fc_train')\n",
    "HTML(display_videos('fc_train0.mp4'))"
   ]
  },
  {
   "cell_type": "markdown",
   "metadata": {},
   "source": [
    "***\n",
    "***\n",
    "__Question 8__ Implement the DQN training algorithm using a CNN (for example, 2 convolutional layers and one final fully connected layer). __DONE__"
   ]
  },
  {
   "cell_type": "code",
   "execution_count": 13,
   "metadata": {},
   "outputs": [],
   "source": [
    "class DQN_CNN(DQN):\n",
    "    def __init__(self, *args,lr=0.1,**kwargs):\n",
    "        super(DQN_CNN, self).__init__(*args,**kwargs)\n",
    "                \n",
    "        model = Sequential()\n",
    "        model.add(Conv2D(8,(3,3), activation = 'relu'))\n",
    "        model.add(Conv2D(16,(3,3), activation = 'relu'))\n",
    "        model.add(Flatten(input_shape = (5, 5, self.n_state)))\n",
    "        model.add(Dense(4))\n",
    "        model.compile(sgd(lr=lr, decay=1e-4, momentum=0.0), \"mse\")\n",
    "        self.model = model"
   ]
  },
  {
   "cell_type": "code",
   "execution_count": 14,
   "metadata": {},
   "outputs": [
    {
     "name": "stdout",
     "output_type": "stream",
     "text": [
      "Epoch 000/030 | Loss 0.0052 | Win/lose count 2.0/4.0 (-2.0)\n",
      "Epoch 001/030 | Loss 0.0035 | Win/lose count 2.5/3.0 (-0.5)\n",
      "Epoch 002/030 | Loss 0.0064 | Win/lose count 2.5/3.0 (-0.5)\n",
      "Epoch 003/030 | Loss 0.0037 | Win/lose count 5.0/0 (5.0)\n",
      "Epoch 004/030 | Loss 0.0049 | Win/lose count 3.5/1.0 (2.5)\n",
      "Epoch 005/030 | Loss 0.0056 | Win/lose count 3.0/2.0 (1.0)\n",
      "Epoch 006/030 | Loss 0.1000 | Win/lose count 0.5/1.0 (-0.5)\n",
      "Epoch 007/030 | Loss 0.0539 | Win/lose count 2.0/1.0 (1.0)\n",
      "Epoch 008/030 | Loss 0.0657 | Win/lose count 2.5/4.0 (-1.5)\n",
      "Epoch 009/030 | Loss 0.0022 | Win/lose count 3.0/1.0 (2.0)\n",
      "Epoch 010/030 | Loss 0.0011 | Win/lose count 4.5/1.0 (3.5)\n",
      "Epoch 011/030 | Loss 0.0584 | Win/lose count 5.5/1.0 (4.5)\n",
      "Epoch 012/030 | Loss 0.0026 | Win/lose count 4.0/1.0 (3.0)\n",
      "Epoch 013/030 | Loss 0.0011 | Win/lose count 2.5/2.0 (0.5)\n",
      "Epoch 014/030 | Loss 0.0042 | Win/lose count 5.0/4.0 (1.0)\n",
      "Epoch 015/030 | Loss 0.0036 | Win/lose count 6.5/0 (6.5)\n",
      "Epoch 016/030 | Loss 0.0033 | Win/lose count 1.0/0 (1.0)\n",
      "Epoch 017/030 | Loss 0.0064 | Win/lose count 2.0/5.0 (-3.0)\n",
      "Epoch 018/030 | Loss 0.0044 | Win/lose count 4.5/5.0 (-0.5)\n",
      "Epoch 019/030 | Loss 0.0021 | Win/lose count 6.0/4.0 (2.0)\n",
      "Epoch 020/030 | Loss 0.0013 | Win/lose count 6.0/2.0 (4.0)\n",
      "Epoch 021/030 | Loss 0.0046 | Win/lose count 5.0/3.0 (2.0)\n",
      "Epoch 022/030 | Loss 0.0051 | Win/lose count 5.0/2.0 (3.0)\n",
      "Epoch 023/030 | Loss 0.0034 | Win/lose count 8.0/2.0 (6.0)\n",
      "Epoch 024/030 | Loss 0.0043 | Win/lose count 11.0/1.0 (10.0)\n",
      "Epoch 025/030 | Loss 0.1005 | Win/lose count 2.5/2.0 (0.5)\n",
      "Epoch 026/030 | Loss 0.0142 | Win/lose count 2.0/3.0 (-1.0)\n",
      "Epoch 027/030 | Loss 0.0039 | Win/lose count 13.0/4.0 (9.0)\n",
      "Epoch 028/030 | Loss 0.0011 | Win/lose count 13.0/2.0 (11.0)\n",
      "Epoch 029/030 | Loss 0.0027 | Win/lose count 7.5/3.0 (4.5)\n"
     ]
    },
    {
     "data": {
      "text/html": [
       "<video alt=\"test\" controls>\n",
       "                <source src=\"data:video/mp4;base64,AAAAIGZ0eXBpc29tAAACAGlzb21pc28yYXZjMW1wNDEAAAAIZnJlZQAAFcttZGF0AAACrQYF//+p3EXpvebZSLeWLNgg2SPu73gyNjQgLSBjb3JlIDE1NSByMjkxNyAwYTg0ZDk4IC0gSC4yNjQvTVBFRy00IEFWQyBjb2RlYyAtIENvcHlsZWZ0IDIwMDMtMjAxOCAtIGh0dHA6Ly93d3cudmlkZW9sYW4ub3JnL3gyNjQuaHRtbCAtIG9wdGlvbnM6IGNhYmFjPTEgcmVmPTMgZGVibG9jaz0xOjA6MCBhbmFseXNlPTB4MToweDExMSBtZT1oZXggc3VibWU9NyBwc3k9MSBwc3lfcmQ9MS4wMDowLjAwIG1peGVkX3JlZj0xIG1lX3JhbmdlPTE2IGNocm9tYV9tZT0xIHRyZWxsaXM9MSA4eDhkY3Q9MCBjcW09MCBkZWFkem9uZT0yMSwxMSBmYXN0X3Bza2lwPTEgY2hyb21hX3FwX29mZnNldD00IHRocmVhZHM9NiBsb29rYWhlYWRfdGhyZWFkcz0xIHNsaWNlZF90aHJlYWRzPTAgbnI9MCBkZWNpbWF0ZT0xIGludGVybGFjZWQ9MCBibHVyYXlfY29tcGF0PTAgY29uc3RyYWluZWRfaW50cmE9MCBiZnJhbWVzPTMgYl9weXJhbWlkPTIgYl9hZGFwdD0xIGJfYmlhcz0wIGRpcmVjdD0xIHdlaWdodGI9MSBvcGVuX2dvcD0wIHdlaWdodHA9MiBrZXlpbnQ9MjUwIGtleWludF9taW49MjUgc2NlbmVjdXQ9NDAgaW50cmFfcmVmcmVzaD0wIHJjX2xvb2thaGVhZD00MCByYz1jcmYgbWJ0cmVlPTEgY3JmPTIzLjAgcWNvbXA9MC42MCBxcG1pbj0wIHFwbWF4PTY5IHFwc3RlcD00IGlwX3JhdGlvPTEuNDAgYXE9MToxLjAwAIAAAALUZYiEADf//vaH+BTZWBP+Wb/9DX/cj9uPrP1xYyEE31qvIejAGS+1H+b/rFFs6Z6UB/fgCJQAc24ZwpJw4v/ApLdW+BTLYTkVLmiBMA0DcSXTbQn+Il4WnmzutPZ6a02gDZ3pCfvdo577buj1P5WOHOSyBHZeFtPBzyyBghVqeX6oBStsMSkCSoM30SVYNIU4In92ijfQCRAIFAJ20ExUu3z/5+XArmmACoXCqqLazSojS5aHMI+0Q0KKeUw5uOKWpMm+IOmLZTV7DvEZ2Ktn/bkEM4QRoPxtneP4eL1TdCM8vvTDyZIHAhNaiBBdPI7PV2p41dGji5mJUlwLTyyC+74ZZY0bXXjWi2EwATIoftzGWo/U7AywAZ001680z1BF4Z3IRyCO61jZbOQ9qMRHvAl9YqPybQljq8af1zBXVJOGogD1QeagQqSOIT3Kv9wroXLsGJGC1fnbJMGGhDMYnAAIowSQ2cTlzjrRwHUQH7V4c0Pdj9WHrwn+5GooeoEPNg9oJxhQeE4Aq/uod7rSJ5iVfLU+fmZ9QsyRIMp1CqqCvd9OzwZ/BUOhP8xk+XZ8PPaSUlZ9IwqgnVWFuut4gqN4IgENdgh9qv+8OBwUTjgBEYN+kC8461e3YKEPSjCZUCynZ6kfVTO+dHQJIbx6fhjMXxS/aEqAzscu1WdA3hRIAKp0lOIJIWC5acmgrslOgrgpe7hzmtlRB/481eHyT3vlnoRHQCq9zhdb8pPebSAScWdJvigbaoXqXynyBLWGPNZ34ayUXc83XxZSr8Y7j1amkuAfsL+uL019NnCvYvO81kvf8W9NoBDveRAATddZ9tRPe6edF2EFDHkzLknuSPDKgl4+JV2K7+EXiX4eFnPjpGH4v0ey8QviENgY2kqqF4k444K8M2ujhGZRyZvEAt/6Gy9/bCghTp+GTDOdhmJtm3OPZig8NinkAeuud0gKNEACQwAAABZBmiNsQ3/+p4QAHG9g/y10t22tz7BgAAAAEEGeQXiFfwAXToB0JN4i5oEAAAAOAZ5iakK/ABdG3XgNsSYAAAAaQZpkSahBaJlMCHf//qmWAAYL2l/O6QphLbEAAAAdQZqISeEKUmUwIb/+p4QAB5/YP8tfMGP86DkZBzUAAAAQQZ6mRTRML/8ABJc+3GmnNQAAAA8BnsV0Qr8ABkkmp6s8OUEAAAAQAZ7HakK/AAZIlv4D8lu80AAAABJBmsxJqEFomUwIb//+p4QAAScAAAAMQZ7qRREsL/8AALKBAAAAEAGfCXRCvwAD+WKxhUjkNtAAAAAQAZ8LakK/AAP4ah0Jscmu4AAAABpBmw1JqEFsmUwIb//+p4QAA0rq0ghE/y6agQAAABlBmy5J4QpSZTAh3/6plgACk/IM0AekvtyxAAAAG0GbUknhDomUwId//qmWAAPQOoWQk3NPRj9OwwAAABBBn3BFETwv/wAEloDl5HTgAAAAEAGfj3RCvwAGSk0InxZinPAAAAAPAZ+RakK/AAZKxYF1/jpBAAAAE0GblkmoQWiZTAh3//6plgAAlYAAAAAMQZ+0RREsL/8AALKAAAAAEAGf03RCvwAGNzk78AH3OUEAAAAQAZ/VakK/AAY3OTvZ4+5ygAAAABNBm9pJqEFsmUwId//+qZYAAJWBAAAADEGf+EUVLC//AACygQAAABABnhd0Qr8ABjc5O/AB9zlAAAAAEAGeGWpCvwAGNzk72ePucoEAAAATQZoeSahBbJlMCHf//qmWAACVgAAAAAxBnjxFFSwv/wAAsoEAAAAQAZ5bdEK/AAY3OTvwAfc5QQAAABABnl1qQr8ABjc5O9nj7nKAAAAAE0GaQkmoQWyZTAh3//6plgAAlYAAAAAMQZ5gRRUsL/8AALKBAAAAEAGen3RCvwAGNzk78AH3OUAAAAAQAZ6BakK/AAY3OTvZ4+5ygQAAABNBmoZJqEFsmUwId//+qZYAAJWAAAAADEGepEUVLC//AACygQAAABABnsN0Qr8ABjc5O/AB9zlBAAAAEAGexWpCvwAGNzk72ePucoEAAAATQZrKSahBbJlMCHf//qmWAACVgQAAAAxBnuhFFSwv/wAAsoAAAAAQAZ8HdEK/AAY3OTvwAfc5QAAAABABnwlqQr8ABjc5O9nj7nKBAAAAE0GbDkmoQWyZTAh3//6plgAAlYAAAAAMQZ8sRRUsL/8AALKAAAAAEAGfS3RCvwAGNzk78AH3OUEAAAAQAZ9NakK/AAY3OTvZ4+5ygQAAABJBm1JJqEFsmUwIb//+p4QAAScAAAAMQZ9wRRUsL/8AALKAAAAAEAGfj3RCvwAGNzk78AH3OUAAAAAQAZ+RakK/AAY3OTvZ4+5ygQAAABpBm5VJqEFsmUwIb//+p4QAB8AeFOs6fdezgAAAABJBn7NFFSwr/wAGcdW9hYL9OYAAAAAOAZ/UakK/AAZx18ecFE0AAAAZQZvWSahBbJlMCHf//qmWAAPmumADDp99YAAAABpBm/pJ4QpSZTAhv/6nhAAHlR5nwNvdT9s1gQAAABBBnhhFNEwv/wAElz9zhZ05AAAADwGeN3RCvwAEFtGLgPz7wAAAABABnjlqQr8ABknbhNxn1655AAAAGkGaPUmoQWiZTAhv//6nhAAHn9g/wnBboXzAAAAAD0GeW0URLCv/AAZIlrOKQQAAAA0BnnxqQr8ABkrFh4xTAAAAGkGafkmoQWyZTAh3//6plgACk6WVxml/bFXAAAAAEkGagknhClJlMCHf/qmWAACVgAAAAAxBnqBFNEwv/wAAsoEAAAAQAZ7fdEK/AAZyyru+obudsAAAABABnsFqQr8ABAlSO9nj7sGBAAAAHEGaxkmoQWiZTAh3//6plgAD0DqFkJNzT0Y/TsIAAAAQQZ7kRREsL/8ABJaA5eR04QAAABABnwN0Qr8ABkpNCJ8WYpzxAAAADwGfBWpCvwAGSsWBdf46QQAAABNBmwpJqEFsmUwId//+qZYAAJWBAAAADEGfKEUVLC//AACygAAAABABn0d0Qr8ABjc5O/AB9zlAAAAAEAGfSWpCvwAGNzk72ePucoEAAAATQZtOSahBbJlMCHf//qmWAACVgAAAAAxBn2xFFSwv/wAAsoAAAAAQAZ+LdEK/AAY3OTvwAfc5QQAAABABn41qQr8ABjc5O9nj7nKBAAAAE0GbkkmoQWyZTAh3//6plgAAlYEAAAAMQZ+wRRUsL/8AALKAAAAAEAGfz3RCvwAGNzk78AH3OUAAAAAQAZ/RakK/AAY3OTvZ4+5ygQAAABNBm9ZJqEFsmUwId//+qZYAAJWAAAAADEGf9EUVLC//AACygAAAABABnhN0Qr8ABjc5O/AB9zlBAAAAEAGeFWpCvwAGNzk72ePucoAAAAATQZoaSahBbJlMCHf//qmWAACVgQAAAAxBnjhFFSwv/wAAsoEAAAAQAZ5XdEK/AAY3OTvwAfc5QAAAABABnllqQr8ABjc5O9nj7nKBAAAAE0GaXkmoQWyZTAh3//6plgAAlYAAAAAMQZ58RRUsL/8AALKBAAAAEAGem3RCvwAGNzk78AH3OUEAAAAQAZ6dakK/AAY3OTvZ4+5ygAAAABNBmoJJqEFsmUwId//+qZYAAJWAAAAADEGeoEUVLC//AACygQAAABABnt90Qr8ABjc5O/AB9zlAAAAAEAGewWpCvwAGNzk72ePucoEAAAATQZrGSahBbJlMCHf//qmWAACVgAAAAAxBnuRFFSwv/wAAsoEAAAAQAZ8DdEK/AAmwgDn9aBzSwQAAABABnwVqQr8ABjc5O9nj7nKBAAAAE0GbCkmoQWyZTAh3//6plgAAlYEAAAAMQZ8oRRUsL/8AALKAAAAAEAGfR3RCvwAGNzk78AH3OUAAAAAQAZ9JakK/AAY3OTvZ4+5ygQAAABNBm05JqEFsmUwId//+qZYAAJWAAAAADEGfbEUVLC//AACygAAAABABn4t0Qr8ABjc5O/AB9zlBAAAAEAGfjWpCvwAGNzk72ePucoEAAAATQZuSSahBbJlMCHf//qmWAACVgQAAAAxBn7BFFSwv/wAAsoAAAAAQAZ/PdEK/AAY3OTvwAfc5QAAAABABn9FqQr8ABjc5O9nj7nKBAAAAE0Gb1kmoQWyZTAh3//6plgAAlYAAAAAMQZ/0RRUsL/8AALKAAAAAEAGeE3RCvwAGNzk78AH3OUEAAAAQAZ4VakK/AAY3OTvZ4+5ygAAAABNBmhpJqEFsmUwId//+qZYAAJWBAAAADEGeOEUVLC//AACygQAAABABnld0Qr8ABjc5O/AB9zlAAAAAEAGeWWpCvwAGNzk72ePucoEAAAASQZpeSahBbJlMCG///qeEAAEnAAAADEGefEUVLC//AACygQAAABABnpt0Qr8ABjc5O/AB9zlBAAAAEAGenWpCvwAGNzk72ePucoAAAAAaQZqfSahBbJlMCHf//qmWAAPV7S/ndIUwnzAAAAASQZqjSeEKUmUwId/+qZYAAJWBAAAADEGewUU0TC//AACygAAAAA8BnuB0Qr8ABBdx3R23xAUAAAAQAZ7iakK/AAZJK2L1dhz5QAAAABNBmudJqEFomUwId//+qZYAAJWBAAAADEGfBUURLC//AACygQAAABABnyR0Qr8ABkrKu6vx3jpBAAAAEAGfJmpCvwAGSSti9XYc+UEAAAATQZsrSahBbJlMCHf//qmWAACVgAAAAAxBn0lFFSwv/wAAsoAAAAAQAZ9odEK/AAZKyrur8d46QQAAABABn2pqQr8ABkkrYvV2HPlAAAAAE0Gbb0moQWyZTAh3//6plgAAlYAAAAAMQZ+NRRUsL/8AALKBAAAAEAGfrHRCvwAGSsq7q/HeOkEAAAAQAZ+uakK/AAZJK2L1dhz5QQAAABNBm7NJqEFsmUwId//+qZYAAJWAAAAADEGf0UUVLC//AACygAAAABABn/B0Qr8ABkrKu6vx3jpBAAAAEAGf8mpCvwAGSSti9XYc+UAAAAATQZv3SahBbJlMCHf//qmWAACVgAAAAAxBnhVFFSwv/wAAsoEAAAAPAZ40dEK/AAQXcd0dt8QFAAAAEAGeNmpCvwAGSSti9XYc+UEAAAATQZo7SahBbJlMCHf//qmWAACVgQAAAAxBnllFFSwv/wAAsoAAAAAQAZ54dEK/AAZKyrur8d46QQAAABABnnpqQr8ABkkrYvV2HPlAAAAAE0Gaf0moQWyZTAh3//6plgAAlYEAAAAMQZ6dRRUsL/8AALKBAAAAEAGevHRCvwAGSsq7q/HeOkAAAAAQAZ6+akK/AAZJK2L1dhz5QAAAABNBmqNJqEFsmUwId//+qZYAAJWBAAAADEGewUUVLC//AACygAAAABABnuB0Qr8AA+6hvZdV/FtBAAAAEAGe4mpCvwAGSSti9XYc+UAAAAATQZrnSahBbJlMCHf//qmWAACVgQAAAAxBnwVFFSwv/wAAsoEAAAAQAZ8kdEK/AAZKyrur8d46QQAAABABnyZqQr8ABkkrYvV2HPlBAAAAE0GbK0moQWyZTAh3//6plgAAlYAAAAAMQZ9JRRUsL/8AALKAAAAAEAGfaHRCvwAGSsq7q/HeOkEAAAAQAZ9qakK/AAZJK2L1dhz5QAAAABNBm29JqEFsmUwId//+qZYAAJWAAAAADEGfjUUVLC//AACygQAAABABn6x0Qr8ABkrKu6vx3jpBAAAAEAGfrmpCvwAGSSti9XYc+UEAAAASQZuzSahBbJlMCG///qeEAAEnAAAADEGf0UUVLC//AACygAAAABABn/B0Qr8ABkrKu6vx3jpBAAAAEAGf8mpCvwAD7qG9itH3Y0AAAAAfQZv1SahBbJlMFEw3//6nhAAHaB4muNUS/RP58HnLSAAAABABnhRqQr8ABiHbhNxn1665AAAAHkGaF0nhClJlMFLDv/6plgADv/Cj4Pj1dazlBuIo4AAAABABnjZqQr8ABiCO3OtDDB1BAAAAEUGaO0nhDomUwIb//qeEAAEnAAAAE0GeWUUVPC//AALXktmpmWXIbFwAAAAQAZ54dEK/AAPLxPFJtkt5gQAAABABnnpqQr8AA8zMHkwPX4GAAAAAHEGaf0moQWiZTAhv//6nhAAEu+On3Wlmam3ReKkAAAAQQZ6dRREsL/8AAtdAitKRfQAAAA8Bnrx0Qr8ABfrKu7zeC8AAAAAQAZ6+akK/AAPMETNN9JCA8AAAABpBmqBJqEFsmUwIb//+p4QABNUAWbbZ9n0ZQQAAABFBmsRJ4QpSZTAhv/6nhAABJwAAAAxBnuJFNEwv/wAAsoEAAAAQAZ8BdEK/AAYiyrur8d48QAAAABABnwNqQr8ABiErYvV2HPvBAAAAEkGbCEmoQWiZTAhf//6MsAAEjQAAAAxBnyZFESwv/wAAsoEAAAAQAZ9FdEK/AAYiyrur8d48QQAAABABn0dqQr8ABiErYvV2HPvAAAAAGkGbSUuoQhBbJEYIKAfyAf2HgCFf/jhAABFwAAAMaG1vb3YAAABsbXZoZAAAAAAAAAAAAAAAAAAAA+gAAB+QAAEAAAEAAAAAAAAAAAAAAAABAAAAAAAAAAAAAAAAAAAAAQAAAAAAAAAAAAAAAAAAQAAAAAAAAAAAAAAAAAAAAAAAAAAAAAAAAAAAAAAAAAIAAAuSdHJhawAAAFx0a2hkAAAAAwAAAAAAAAAAAAAAAQAAAAAAAB+QAAAAAAAAAAAAAAAAAAAAAAABAAAAAAAAAAAAAAAAAAAAAQAAAAAAAAAAAAAAAAAAQAAAAAEQAAABEAAAAAAAJGVkdHMAAAAcZWxzdAAAAAAAAAABAAAfkAAABAAAAQAAAAALCm1kaWEAAAAgbWRoZAAAAAAAAAAAAAAAAAAAMgAAAZQAVcQAAAAAAC1oZGxyAAAAAAAAAAB2aWRlAAAAAAAAAAAAAAAAVmlkZW9IYW5kbGVyAAAACrVtaW5mAAAAFHZtaGQAAAABAAAAAAAAAAAAAAAkZGluZgAAABxkcmVmAAAAAAAAAAEAAAAMdXJsIAAAAAEAAAp1c3RibAAAAJVzdHNkAAAAAAAAAAEAAACFYXZjMQAAAAAAAAABAAAAAAAAAAAAAAAAAAAAAAEQARAASAAAAEgAAAAAAAAAAQAAAAAAAAAAAAAAAAAAAAAAAAAAAAAAAAAAAAAAAAAAABj//wAAAC9hdmNDAfQADf/hABdn9AANkZsoIhHQgAAAAwCAAAAZB4oUywEABWjr48RIAAAAGHN0dHMAAAAAAAAAAQAAAMoAAAIAAAAAFHN0c3MAAAAAAAAAAQAAAAEAAAZAY3R0cwAAAAAAAADGAAAAAQAABAAAAAABAAAIAAAAAAIAAAIAAAAAAQAABAAAAAABAAAKAAAAAAEAAAQAAAAAAQAAAAAAAAABAAACAAAAAAEAAAoAAAAAAQAABAAAAAABAAAAAAAAAAEAAAIAAAAAAgAABAAAAAABAAAKAAAAAAEAAAQAAAAAAQAAAAAAAAABAAACAAAAAAEAAAoAAAAAAQAABAAAAAABAAAAAAAAAAEAAAIAAAAAAQAACgAAAAABAAAEAAAAAAEAAAAAAAAAAQAAAgAAAAABAAAKAAAAAAEAAAQAAAAAAQAAAAAAAAABAAACAAAAAAEAAAoAAAAAAQAABAAAAAABAAAAAAAAAAEAAAIAAAAAAQAACgAAAAABAAAEAAAAAAEAAAAAAAAAAQAAAgAAAAABAAAKAAAAAAEAAAQAAAAAAQAAAAAAAAABAAACAAAAAAEAAAoAAAAAAQAABAAAAAABAAAAAAAAAAEAAAIAAAAAAQAACgAAAAABAAAEAAAAAAEAAAAAAAAAAQAAAgAAAAABAAAIAAAAAAIAAAIAAAAAAQAABAAAAAABAAAKAAAAAAEAAAQAAAAAAQAAAAAAAAABAAACAAAAAAEAAAgAAAAAAgAAAgAAAAABAAAEAAAAAAEAAAoAAAAAAQAABAAAAAABAAAAAAAAAAEAAAIAAAAAAQAACgAAAAABAAAEAAAAAAEAAAAAAAAAAQAAAgAAAAABAAAKAAAAAAEAAAQAAAAAAQAAAAAAAAABAAACAAAAAAEAAAoAAAAAAQAABAAAAAABAAAAAAAAAAEAAAIAAAAAAQAACgAAAAABAAAEAAAAAAEAAAAAAAAAAQAAAgAAAAABAAAKAAAAAAEAAAQAAAAAAQAAAAAAAAABAAACAAAAAAEAAAoAAAAAAQAABAAAAAABAAAAAAAAAAEAAAIAAAAAAQAACgAAAAABAAAEAAAAAAEAAAAAAAAAAQAAAgAAAAABAAAKAAAAAAEAAAQAAAAAAQAAAAAAAAABAAACAAAAAAEAAAoAAAAAAQAABAAAAAABAAAAAAAAAAEAAAIAAAAAAQAACgAAAAABAAAEAAAAAAEAAAAAAAAAAQAAAgAAAAABAAAKAAAAAAEAAAQAAAAAAQAAAAAAAAABAAACAAAAAAEAAAoAAAAAAQAABAAAAAABAAAAAAAAAAEAAAIAAAAAAQAACgAAAAABAAAEAAAAAAEAAAAAAAAAAQAAAgAAAAABAAAKAAAAAAEAAAQAAAAAAQAAAAAAAAABAAACAAAAAAEAAAoAAAAAAQAABAAAAAABAAAAAAAAAAEAAAIAAAAAAQAABAAAAAABAAAKAAAAAAEAAAQAAAAAAQAAAAAAAAABAAACAAAAAAEAAAoAAAAAAQAABAAAAAABAAAAAAAAAAEAAAIAAAAAAQAACgAAAAABAAAEAAAAAAEAAAAAAAAAAQAAAgAAAAABAAAKAAAAAAEAAAQAAAAAAQAAAAAAAAABAAACAAAAAAEAAAoAAAAAAQAABAAAAAABAAAAAAAAAAEAAAIAAAAAAQAACgAAAAABAAAEAAAAAAEAAAAAAAAAAQAAAgAAAAABAAAKAAAAAAEAAAQAAAAAAQAAAAAAAAABAAACAAAAAAEAAAoAAAAAAQAABAAAAAABAAAAAAAAAAEAAAIAAAAAAQAACgAAAAABAAAEAAAAAAEAAAAAAAAAAQAAAgAAAAABAAAKAAAAAAEAAAQAAAAAAQAAAAAAAAABAAACAAAAAAEAAAoAAAAAAQAABAAAAAABAAAAAAAAAAEAAAIAAAAAAQAACgAAAAABAAAEAAAAAAEAAAAAAAAAAQAAAgAAAAABAAAKAAAAAAEAAAQAAAAAAQAAAAAAAAABAAACAAAAAAEAAAYAAAAAAQAAAgAAAAABAAAGAAAAAAEAAAIAAAAAAQAACgAAAAABAAAEAAAAAAEAAAAAAAAAAQAAAgAAAAABAAAKAAAAAAEAAAQAAAAAAQAAAAAAAAABAAACAAAAAAEAAAQAAAAAAQAACgAAAAABAAAEAAAAAAEAAAAAAAAAAQAAAgAAAAABAAAKAAAAAAEAAAQAAAAAAQAAAAAAAAABAAACAAAAAAEAAAQAAAAAHHN0c2MAAAAAAAAAAQAAAAEAAADKAAAAAQAAAzxzdHN6AAAAAAAAAAAAAADKAAAFiQAAABoAAAAUAAAAEgAAAB4AAAAhAAAAFAAAABMAAAAUAAAAFgAAABAAAAAUAAAAFAAAAB4AAAAdAAAAHwAAABQAAAAUAAAAEwAAABcAAAAQAAAAFAAAABQAAAAXAAAAEAAAABQAAAAUAAAAFwAAABAAAAAUAAAAFAAAABcAAAAQAAAAFAAAABQAAAAXAAAAEAAAABQAAAAUAAAAFwAAABAAAAAUAAAAFAAAABcAAAAQAAAAFAAAABQAAAAWAAAAEAAAABQAAAAUAAAAHgAAABYAAAASAAAAHQAAAB4AAAAUAAAAEwAAABQAAAAeAAAAEwAAABEAAAAeAAAAFgAAABAAAAAUAAAAFAAAACAAAAAUAAAAFAAAABMAAAAXAAAAEAAAABQAAAAUAAAAFwAAABAAAAAUAAAAFAAAABcAAAAQAAAAFAAAABQAAAAXAAAAEAAAABQAAAAUAAAAFwAAABAAAAAUAAAAFAAAABcAAAAQAAAAFAAAABQAAAAXAAAAEAAAABQAAAAUAAAAFwAAABAAAAAUAAAAFAAAABcAAAAQAAAAFAAAABQAAAAXAAAAEAAAABQAAAAUAAAAFwAAABAAAAAUAAAAFAAAABcAAAAQAAAAFAAAABQAAAAXAAAAEAAAABQAAAAUAAAAFgAAABAAAAAUAAAAFAAAAB4AAAAWAAAAEAAAABMAAAAUAAAAFwAAABAAAAAUAAAAFAAAABcAAAAQAAAAFAAAABQAAAAXAAAAEAAAABQAAAAUAAAAFwAAABAAAAAUAAAAFAAAABcAAAAQAAAAEwAAABQAAAAXAAAAEAAAABQAAAAUAAAAFwAAABAAAAAUAAAAFAAAABcAAAAQAAAAFAAAABQAAAAXAAAAEAAAABQAAAAUAAAAFwAAABAAAAAUAAAAFAAAABcAAAAQAAAAFAAAABQAAAAWAAAAEAAAABQAAAAUAAAAIwAAABQAAAAiAAAAFAAAABUAAAAXAAAAFAAAABQAAAAgAAAAFAAAABMAAAAUAAAAHgAAABUAAAAQAAAAFAAAABQAAAAWAAAAEAAAABQAAAAUAAAAHgAAABRzdGNvAAAAAAAAAAEAAAAwAAAAYnVkdGEAAABabWV0YQAAAAAAAAAhaGRscgAAAAAAAAAAbWRpcmFwcGwAAAAAAAAAAAAAAAAtaWxzdAAAACWpdG9vAAAAHWRhdGEAAAABAAAAAExhdmY1OC4yMC4xMDA=\" type=\"video/mp4\" />\n",
       "             </video>"
      ],
      "text/plain": [
       "<IPython.core.display.HTML object>"
      ]
     },
     "execution_count": 14,
     "metadata": {},
     "output_type": "execute_result"
    }
   ],
   "source": [
    "env = Environment(grid_size=size, max_time=T, temperature=0.3)\n",
    "agent = DQN_CNN(size, lr=.1, epsilon = 0.1, memory_size=2000, batch_size = 32)\n",
    "train(agent,env,epochs_train,prefix='cnn_train')\n",
    "HTML(display_videos('cnn_train0.mp4'))"
   ]
  },
  {
   "cell_type": "markdown",
   "metadata": {},
   "source": [
    "***\n",
    "***\n",
    "__Question 9__ Test both algorithms and compare their performances. Which issue(s) do you observe? Observe also different behaviors by changing the temperature.\n",
    "\n",
    "\n",
    "\n",
    "__Answer:__ When comparing both algorithms for different temperatures, it seems that the CNN performs better. However, both algorithm show their limit in the sense that the rat does not explore the map well. It tends to stay at the same place, looping again and again, like if it was trapped. This is not only explainable by the fact that the epsilon is fixed but also because there is no penalty for staying at the same place. It is then better to stay trapped than risking negative rewards. \n",
    "\n",
    "Going deeper in the temperature, it seems that the higher the temperature, the better are the scores. Indeed, the higher it is, the most positive rewards there are on the grid. Moreover, for CNN, the higher the temperature, the less important is the \"looping\" problem. "
   ]
  },
  {
   "cell_type": "code",
   "execution_count": 15,
   "metadata": {},
   "outputs": [
    {
     "name": "stdout",
     "output_type": "stream",
     "text": [
      "Test of the CNN\n",
      "Win/lose count 2.0/1.0. Average score (1.0)\n",
      "Win/lose count 5.0/0. Average score (3.0)\n",
      "Win/lose count 0/0. Average score (2.0)\n",
      "Win/lose count 1.5/0. Average score (1.875)\n",
      "Win/lose count 3.0/0. Average score (2.1)\n",
      "Win/lose count 2.0/0. Average score (2.0833333333333335)\n",
      "Win/lose count 1.0/0. Average score (1.9285714285714286)\n",
      "Win/lose count 3.5/0. Average score (2.125)\n",
      "Win/lose count 1.5/0. Average score (2.0555555555555554)\n",
      "Win/lose count 2.0/2.0. Average score (1.85)\n",
      "Final score: 1.85\n",
      "Test of the FC\n",
      "Win/lose count 4.0/1.0. Average score (3.0)\n",
      "Win/lose count 1.5/0. Average score (2.25)\n",
      "Win/lose count 2.5/0. Average score (2.3333333333333335)\n",
      "Win/lose count 2.0/0. Average score (2.25)\n",
      "Win/lose count 1.5/1.0. Average score (1.9)\n",
      "Win/lose count 1.0/0. Average score (1.75)\n",
      "Win/lose count 0.5/0. Average score (1.5714285714285714)\n",
      "Win/lose count 3.0/0. Average score (1.75)\n",
      "Win/lose count 3.0/0. Average score (1.8888888888888888)\n",
      "Win/lose count 2.0/0. Average score (1.9)\n",
      "Final score: 1.9\n"
     ]
    }
   ],
   "source": [
    "env = Environment(grid_size=size, max_time=T,temperature=0.3)\n",
    "agent_cnn = DQN_CNN(size, lr=.1, epsilon = 0.1, memory_size=2000, batch_size = 32)\n",
    "agent_cnn.load(name_weights='cnn_trainmodel.h5',name_model='cnn_trainmodel.json')\n",
    "\n",
    "#We replaced CNN by fc below, there was a typo\n",
    "agent_fc = DQN_FC(size, lr=.1, epsilon = 0.1, memory_size=2000, batch_size = 32)\n",
    "agent_fc.load(name_weights='fc_trainmodel.h5',name_model='fc_trainmodel.json')\n",
    "print('Test of the CNN')\n",
    "test(agent_cnn,env,epochs_test,prefix='cnn_test')\n",
    "print('Test of the FC')\n",
    "test(agent_fc,env,epochs_test,prefix='fc_test')"
   ]
  },
  {
   "cell_type": "code",
   "execution_count": 16,
   "metadata": {},
   "outputs": [
    {
     "data": {
      "text/html": [
       "<video alt=\"test\" controls>\n",
       "                <source src=\"data:video/mp4;base64,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\" type=\"video/mp4\" />\n",
       "             </video>"
      ],
      "text/plain": [
       "<IPython.core.display.HTML object>"
      ]
     },
     "execution_count": 16,
     "metadata": {},
     "output_type": "execute_result"
    }
   ],
   "source": [
    "HTML(display_videos('cnn_test10.mp4'))"
   ]
  },
  {
   "cell_type": "code",
   "execution_count": 17,
   "metadata": {},
   "outputs": [
    {
     "data": {
      "text/html": [
       "<video alt=\"test\" controls>\n",
       "                <source src=\"data:video/mp4;base64,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\" type=\"video/mp4\" />\n",
       "             </video>"
      ],
      "text/plain": [
       "<IPython.core.display.HTML object>"
      ]
     },
     "execution_count": 17,
     "metadata": {},
     "output_type": "execute_result"
    }
   ],
   "source": [
    "HTML(display_videos('fc_test10.mp4'))"
   ]
  },
  {
   "cell_type": "markdown",
   "metadata": {},
   "source": [
    "***\n",
    "\n",
    "The algorithm tends to not explore the map which can be an issue. We propose two ideas in order to encourage exploration:\n",
    "1. Incorporating a decreasing $\\epsilon$-greedy exploration. You can use the method ```set_epsilon```\n",
    "2. Append via the environment a new state that describes if a cell has been visited or not\n",
    "\n",
    "***\n",
    "__Question 10__ Design a new ```train_explore``` function and environment class ```EnvironmentExploring``` to tackle the issue of exploration.\n",
    "\n"
   ]
  },
  {
   "cell_type": "code",
   "execution_count": 18,
   "metadata": {},
   "outputs": [],
   "source": [
    "def train_explore(agent,env,epoch,prefix=''):\n",
    "    score = 0 \n",
    "    loss = 0\n",
    "    \n",
    "    for e in range(epoch):\n",
    "        state = env.reset()\n",
    "        game_over = False\n",
    "        lose = 0\n",
    "        win = 0\n",
    "        \n",
    "    while not game_over:\n",
    "        agent.set_epsilon(agent.epsilon*0.9) #Here we decay the epsilon after each iteration\n",
    "        action = agent.act(state, train = True)\n",
    "        prev_state = state\n",
    "        state, reward, game_over = env.act(action,train = True)\n",
    "        if reward > 0:\n",
    "            win = win + reward\n",
    "        if reward < 0:\n",
    "            lose = lose -reward \n",
    "        loss = agent.reinforce(prev_state, state,  action, reward, game_over)\n",
    "    \n",
    "    # Save as a mp4\n",
    "        if e % 10 == 0:\n",
    "            env.draw(prefix+str(e))\n",
    "            \n",
    "            \n",
    "        # Update stats\n",
    "        score += win-lose\n",
    "        print(\"Epoch {:03d}/{:03d} | Loss {:.4f} | Win/lose count {}/{} ({})\"\n",
    "              .format(e, epoch, loss, win, lose, win-lose))\n",
    "        agent.save(name_weights=prefix+'model.h5',name_model=prefix+'model.json')\n",
    "    \n",
    "\n",
    "        \n",
    "class EnvironmentExploring(object):\n",
    "    def __init__(self, grid_size=10, max_time=500, temperature=0.1):\n",
    "        grid_size = grid_size+4\n",
    "        self.grid_size = grid_size\n",
    "        self.max_time = max_time\n",
    "        self.temperature = temperature\n",
    "\n",
    "        self.board = np.zeros((grid_size,grid_size))\n",
    "        self.position = np.zeros((grid_size,grid_size))\n",
    "        #self.malus_position = np.zeros((grid_size,grid_size))\n",
    "        self.x = 0\n",
    "        self.y = 1\n",
    "        self.t = 0\n",
    "        self.scale=16\n",
    "        self.to_draw = np.zeros((max_time+2, grid_size*self.scale, grid_size*self.scale, 3))\n",
    "\n",
    "    def draw(self, e):\n",
    "        skvideo.io.vwrite(str(e) + '.mp4', self.to_draw)\n",
    "\n",
    "    def get_frame(self, t):\n",
    "        b = np.zeros((self.grid_size,self.grid_size,3))+128\n",
    "        b[self.board>0,0] = 256\n",
    "        b[self.board < 0, 2] = 256\n",
    "        b[self.x,self.y,:]=256\n",
    "        b[-2:,:,:]=0\n",
    "        b[:,-2:,:]=0\n",
    "        b[:2,:,:]=0\n",
    "        b[:,:2,:]=0\n",
    "        b =  cv2.resize(b, None, fx=self.scale, fy=self.scale, interpolation=cv2.INTER_NEAREST)\n",
    "        self.to_draw[t,:,:,:]=b\n",
    "        \n",
    "\n",
    "    def act(self, action, train = False):\n",
    "        \"\"\"This function returns the new state, reward and decides if the\n",
    "        game ends.\"\"\"\n",
    "        self.get_frame(int(self.t))\n",
    "        self.position = np.zeros((self.grid_size, self.grid_size))\n",
    "        self.position[0:2,:]= -1\n",
    "        self.position[:,0:2] = -1\n",
    "        self.position[-2:, :] = -1\n",
    "        self.position[:,-2:] = -1\n",
    "        self.position[self.x, self.y] = 1\n",
    "        \n",
    "        if action == 0:\n",
    "            if self.x == self.grid_size-3:\n",
    "                self.x = self.x-1\n",
    "            else:\n",
    "                self.x = self.x + 1\n",
    "        elif action == 1:\n",
    "            if self.x == 2:\n",
    "                self.x = self.x+1\n",
    "            else:\n",
    "                self.x = self.x-1\n",
    "        elif action == 2:\n",
    "            if self.y == self.grid_size - 3:\n",
    "                self.y = self.y - 1\n",
    "            else:\n",
    "                self.y = self.y + 1\n",
    "        elif action == 3:\n",
    "            if self.y == 2:\n",
    "                self.y = self.y + 1\n",
    "            else:\n",
    "                self.y = self.y - 1\n",
    "        else:\n",
    "            RuntimeError('Error: action not recognized')\n",
    "            \n",
    "            \n",
    "            \n",
    "        self.t = self.t + 1\n",
    "        reward = 0\n",
    "        if train:\n",
    "            reward = -self.malus_position[self.x, self.y] \n",
    "        self.malus_position[self.x, self.y] += 0.1\n",
    "        reward = reward + self.board[self.x, self.y]\n",
    "        self.board[self.x, self.y] = 0\n",
    "        game_over = self.t > self.max_time\n",
    "        state = np.concatenate((self.malus_position.reshape(self.grid_size, self.grid_size, 1),\n",
    "                                self.board.reshape(self.grid_size, self.grid_size, 1),\n",
    "                                self.position.reshape(self.grid_size, self.grid_size, 1)),axis=2)\n",
    "        state = state[self.x-2:self.x+3,self.y-2:self.y+3,:]\n",
    "        return state, reward, game_over\n",
    "\n",
    "\n",
    "    def reset(self):\n",
    "        \"\"\"This function resets the game and returns the initial state\"\"\"\n",
    "        self.x = np.random.randint(3, self.grid_size-3, size=1)[0]\n",
    "        self.y = np.random.randint(3, self.grid_size-3, size=1)[0]\n",
    "        bonus = 0.5*np.random.binomial(1,self.temperature,size=self.grid_size**2)\n",
    "        bonus = bonus.reshape(self.grid_size,self.grid_size)\n",
    "        \n",
    "        \n",
    "        malus = -1.0*np.random.binomial(1,self.temperature,size=self.grid_size**2)\n",
    "        malus = malus.reshape(self.grid_size, self.grid_size)\n",
    "        \n",
    "        \n",
    "        self.to_draw = np.zeros((self.max_time+2, self.grid_size*self.scale, self.grid_size*self.scale, 3))\n",
    "        malus[bonus>0]=0\n",
    "        self.board = bonus + malus\n",
    "        self.position = np.zeros((self.grid_size, self.grid_size))\n",
    "        self.position[0:2,:]= -1\n",
    "        self.position[:,0:2] = -1\n",
    "        self.position[-2:, :] = -1\n",
    "        self.position[:,-2:] = -1\n",
    "        self.board[self.x,self.y] = 0\n",
    "        self.t = 0\n",
    "        self.malus_position = np.zeros((self.grid_size, self.grid_size))\n",
    "        state = np.concatenate(( self.malus_position.reshape(self.grid_size, self.grid_size,1), \n",
    "                                self.board.reshape(self.grid_size, self.grid_size,1),\n",
    "                                self.position.reshape(self.grid_size, self.grid_size,1)),axis=2)\n",
    "        state = state[self.x - 2:self.x + 3, self.y - 2:self.y + 3, :]\n",
    "        return state"
   ]
  },
  {
   "cell_type": "code",
   "execution_count": 19,
   "metadata": {},
   "outputs": [
    {
     "name": "stdout",
     "output_type": "stream",
     "text": [
      "Epoch 029/030 | Loss 0.0000 | Win/lose count 0/0 (0)\n",
      "Epoch 029/030 | Loss 0.0080 | Win/lose count 0/0 (0)\n",
      "Epoch 029/030 | Loss 0.0067 | Win/lose count 0/0.1 (-0.1)\n",
      "Epoch 029/030 | Loss 0.0044 | Win/lose count 0/0.1 (-0.1)\n",
      "Epoch 029/030 | Loss 0.0284 | Win/lose count 0/1.1 (-1.1)\n",
      "Epoch 029/030 | Loss 0.0253 | Win/lose count 0/1.1 (-1.1)\n",
      "Epoch 029/030 | Loss 0.0648 | Win/lose count 0/2.1 (-2.1)\n",
      "Epoch 029/030 | Loss 0.0764 | Win/lose count 0.5/2.1 (-1.6)\n",
      "Epoch 029/030 | Loss 0.0486 | Win/lose count 0.5/2.1 (-1.6)\n",
      "Epoch 029/030 | Loss 0.0346 | Win/lose count 0.5/2.2 (-1.7000000000000002)\n",
      "Epoch 029/030 | Loss 0.0481 | Win/lose count 0.5/2.3000000000000003 (-1.8000000000000003)\n",
      "Epoch 029/030 | Loss 0.0337 | Win/lose count 0.5/2.3000000000000003 (-1.8000000000000003)\n",
      "Epoch 029/030 | Loss 0.0311 | Win/lose count 0.5/2.3000000000000003 (-1.8000000000000003)\n",
      "Epoch 029/030 | Loss 0.0465 | Win/lose count 0.5/2.4000000000000004 (-1.9000000000000004)\n",
      "Epoch 029/030 | Loss 0.0361 | Win/lose count 0.5/2.5000000000000004 (-2.0000000000000004)\n",
      "Epoch 029/030 | Loss 0.0443 | Win/lose count 0.5/2.6000000000000005 (-2.1000000000000005)\n",
      "Epoch 029/030 | Loss 0.0224 | Win/lose count 0.5/2.6000000000000005 (-2.1000000000000005)\n",
      "Epoch 029/030 | Loss 0.0230 | Win/lose count 1.0/2.6000000000000005 (-1.6000000000000005)\n",
      "Epoch 029/030 | Loss 0.0354 | Win/lose count 1.5/2.6000000000000005 (-1.1000000000000005)\n",
      "Epoch 029/030 | Loss 0.0293 | Win/lose count 2.0/2.6000000000000005 (-0.6000000000000005)\n",
      "Epoch 029/030 | Loss 0.0083 | Win/lose count 2.0/2.7000000000000006 (-0.7000000000000006)\n",
      "Epoch 029/030 | Loss 0.0293 | Win/lose count 2.5/2.7000000000000006 (-0.20000000000000062)\n",
      "Epoch 029/030 | Loss 0.0393 | Win/lose count 3.0/2.7000000000000006 (0.2999999999999994)\n",
      "Epoch 029/030 | Loss 0.0311 | Win/lose count 3.0/2.7000000000000006 (0.2999999999999994)\n",
      "Epoch 029/030 | Loss 0.0220 | Win/lose count 3.0/3.7000000000000006 (-0.7000000000000006)\n",
      "Epoch 029/030 | Loss 0.0423 | Win/lose count 3.0/3.7000000000000006 (-0.7000000000000006)\n",
      "Epoch 029/030 | Loss 0.0208 | Win/lose count 3.0/4.700000000000001 (-1.700000000000001)\n",
      "Epoch 029/030 | Loss 0.0405 | Win/lose count 3.5/4.700000000000001 (-1.200000000000001)\n",
      "Epoch 029/030 | Loss 0.0504 | Win/lose count 4.0/4.700000000000001 (-0.7000000000000011)\n",
      "Epoch 029/030 | Loss 0.0484 | Win/lose count 4.0/4.800000000000001 (-0.8000000000000007)\n",
      "Epoch 029/030 | Loss 0.0358 | Win/lose count 4.0/4.800000000000001 (-0.8000000000000007)\n",
      "Epoch 029/030 | Loss 0.0403 | Win/lose count 4.0/5.800000000000001 (-1.8000000000000007)\n",
      "Epoch 029/030 | Loss 0.0444 | Win/lose count 4.0/5.9 (-1.9000000000000004)\n",
      "Epoch 029/030 | Loss 0.0269 | Win/lose count 4.0/6.0 (-2.0)\n",
      "Epoch 029/030 | Loss 0.0661 | Win/lose count 4.0/6.2 (-2.2)\n",
      "Epoch 029/030 | Loss 0.0448 | Win/lose count 4.0/6.4 (-2.4000000000000004)\n",
      "Epoch 029/030 | Loss 0.0617 | Win/lose count 4.0/7.4 (-3.4000000000000004)\n",
      "Epoch 029/030 | Loss 0.0324 | Win/lose count 4.5/7.4 (-2.9000000000000004)\n",
      "Epoch 029/030 | Loss 0.0347 | Win/lose count 4.5/7.5 (-3.0)\n",
      "Epoch 029/030 | Loss 0.0541 | Win/lose count 4.5/7.5 (-3.0)\n",
      "Epoch 029/030 | Loss 0.0389 | Win/lose count 4.5/7.7 (-3.2)\n",
      "Epoch 029/030 | Loss 0.0661 | Win/lose count 4.5/7.8 (-3.3)\n",
      "Epoch 029/030 | Loss 0.0321 | Win/lose count 4.5/8.1 (-3.5999999999999996)\n",
      "Epoch 029/030 | Loss 0.0282 | Win/lose count 4.5/8.299999999999999 (-3.799999999999999)\n",
      "Epoch 029/030 | Loss 0.0155 | Win/lose count 4.5/8.7 (-4.199999999999999)\n",
      "Epoch 029/030 | Loss 0.0679 | Win/lose count 4.5/9.0 (-4.5)\n",
      "Epoch 029/030 | Loss 0.0531 | Win/lose count 4.5/9.5 (-5.0)\n",
      "Epoch 029/030 | Loss 0.0367 | Win/lose count 4.5/9.9 (-5.4)\n",
      "Epoch 029/030 | Loss 0.0361 | Win/lose count 4.5/10.5 (-6.0)\n",
      "Epoch 029/030 | Loss 0.0332 | Win/lose count 4.5/10.6 (-6.1)\n",
      "Epoch 029/030 | Loss 0.0525 | Win/lose count 4.5/11.6 (-7.1)\n",
      "Epoch 029/030 | Loss 0.0394 | Win/lose count 4.5/12.6 (-8.1)\n",
      "Epoch 029/030 | Loss 0.0392 | Win/lose count 4.5/12.6 (-8.1)\n",
      "Epoch 029/030 | Loss 0.0588 | Win/lose count 4.5/12.7 (-8.2)\n",
      "Epoch 029/030 | Loss 0.0473 | Win/lose count 4.5/12.799999999999999 (-8.299999999999999)\n",
      "Epoch 029/030 | Loss 0.0445 | Win/lose count 4.5/12.999999999999998 (-8.499999999999998)\n",
      "Epoch 029/030 | Loss 0.0335 | Win/lose count 4.5/13.199999999999998 (-8.699999999999998)\n",
      "Epoch 029/030 | Loss 0.0315 | Win/lose count 4.5/13.499999999999998 (-8.999999999999998)\n",
      "Epoch 029/030 | Loss 0.0422 | Win/lose count 4.5/13.799999999999999 (-9.299999999999999)\n",
      "Epoch 029/030 | Loss 0.0473 | Win/lose count 4.5/14.2 (-9.7)\n",
      "Epoch 029/030 | Loss 0.0358 | Win/lose count 4.5/14.6 (-10.1)\n",
      "Epoch 029/030 | Loss 0.0541 | Win/lose count 4.5/15.1 (-10.6)\n",
      "Epoch 029/030 | Loss 0.0370 | Win/lose count 4.5/15.6 (-11.1)\n",
      "Epoch 029/030 | Loss 0.0334 | Win/lose count 4.5/16.2 (-11.7)\n",
      "Epoch 029/030 | Loss 0.0476 | Win/lose count 4.5/17.2 (-12.7)\n",
      "Epoch 029/030 | Loss 0.0586 | Win/lose count 5.0/17.2 (-12.2)\n",
      "Epoch 029/030 | Loss 0.0390 | Win/lose count 5.0/17.8 (-12.8)\n",
      "Epoch 029/030 | Loss 0.0406 | Win/lose count 5.0/18.5 (-13.5)\n",
      "Epoch 029/030 | Loss 0.0431 | Win/lose count 5.0/18.6 (-13.600000000000001)\n",
      "Epoch 029/030 | Loss 0.0435 | Win/lose count 5.5/18.6 (-13.100000000000001)\n",
      "Epoch 029/030 | Loss 0.0384 | Win/lose count 5.5/18.8 (-13.3)\n",
      "Epoch 029/030 | Loss 0.0514 | Win/lose count 5.5/18.900000000000002 (-13.400000000000002)\n",
      "Epoch 029/030 | Loss 0.0492 | Win/lose count 5.5/19.200000000000003 (-13.700000000000003)\n",
      "Epoch 029/030 | Loss 0.0302 | Win/lose count 5.5/19.400000000000002 (-13.900000000000002)\n",
      "Epoch 029/030 | Loss 0.0391 | Win/lose count 6.0/19.400000000000002 (-13.400000000000002)\n",
      "Epoch 029/030 | Loss 0.0367 | Win/lose count 6.0/19.700000000000003 (-13.700000000000003)\n",
      "Epoch 029/030 | Loss 0.0474 | Win/lose count 6.0/19.800000000000004 (-13.800000000000004)\n",
      "Epoch 029/030 | Loss 0.0381 | Win/lose count 6.0/20.000000000000004 (-14.000000000000004)\n",
      "Epoch 029/030 | Loss 0.0387 | Win/lose count 6.0/20.700000000000003 (-14.700000000000003)\n",
      "Epoch 029/030 | Loss 0.0543 | Win/lose count 6.0/21.200000000000003 (-15.200000000000003)\n",
      "Epoch 029/030 | Loss 0.0473 | Win/lose count 6.0/21.500000000000004 (-15.500000000000004)\n",
      "Epoch 029/030 | Loss 0.0379 | Win/lose count 6.0/21.800000000000004 (-15.800000000000004)\n",
      "Epoch 029/030 | Loss 0.0356 | Win/lose count 6.0/22.200000000000003 (-16.200000000000003)\n",
      "Epoch 029/030 | Loss 0.0496 | Win/lose count 6.0/22.400000000000002 (-16.400000000000002)\n",
      "Epoch 029/030 | Loss 0.0232 | Win/lose count 6.0/22.500000000000004 (-16.500000000000004)\n",
      "Epoch 029/030 | Loss 0.0459 | Win/lose count 6.5/22.500000000000004 (-16.000000000000004)\n",
      "Epoch 029/030 | Loss 0.0261 | Win/lose count 6.5/22.700000000000003 (-16.200000000000003)\n",
      "Epoch 029/030 | Loss 0.0342 | Win/lose count 6.5/22.800000000000004 (-16.300000000000004)\n",
      "Epoch 029/030 | Loss 0.0493 | Win/lose count 6.5/23.800000000000004 (-17.300000000000004)\n",
      "Epoch 029/030 | Loss 0.0334 | Win/lose count 6.5/24.000000000000004 (-17.500000000000004)\n",
      "Epoch 029/030 | Loss 0.0476 | Win/lose count 6.5/24.100000000000005 (-17.600000000000005)\n",
      "Epoch 029/030 | Loss 0.0254 | Win/lose count 6.5/24.400000000000006 (-17.900000000000006)\n",
      "Epoch 029/030 | Loss 0.0548 | Win/lose count 6.5/24.600000000000005 (-18.100000000000005)\n",
      "Epoch 029/030 | Loss 0.0260 | Win/lose count 6.5/24.600000000000005 (-18.100000000000005)\n",
      "Epoch 029/030 | Loss 0.0396 | Win/lose count 7.0/24.600000000000005 (-17.600000000000005)\n",
      "Epoch 029/030 | Loss 0.0195 | Win/lose count 7.0/24.700000000000006 (-17.700000000000006)\n",
      "Epoch 029/030 | Loss 0.0218 | Win/lose count 7.0/24.800000000000008 (-17.800000000000008)\n",
      "Epoch 029/030 | Loss 0.0267 | Win/lose count 7.0/25.000000000000007 (-18.000000000000007)\n",
      "Epoch 029/030 | Loss 0.0422 | Win/lose count 7.0/25.200000000000006 (-18.200000000000006)\n",
      "Epoch 029/030 | Loss 0.0438 | Win/lose count 7.0/25.500000000000007 (-18.500000000000007)\n",
      "Epoch 029/030 | Loss 0.0285 | Win/lose count 7.0/25.800000000000008 (-18.800000000000008)\n",
      "Epoch 029/030 | Loss 0.0409 | Win/lose count 7.0/26.200000000000006 (-19.200000000000006)\n",
      "Epoch 029/030 | Loss 0.0486 | Win/lose count 7.0/26.600000000000005 (-19.600000000000005)\n",
      "Epoch 029/030 | Loss 0.0208 | Win/lose count 7.0/27.100000000000005 (-20.100000000000005)\n",
      "Epoch 029/030 | Loss 0.0167 | Win/lose count 7.0/27.600000000000005 (-20.600000000000005)\n"
     ]
    },
    {
     "name": "stdout",
     "output_type": "stream",
     "text": [
      "Epoch 029/030 | Loss 0.0180 | Win/lose count 7.0/28.200000000000006 (-21.200000000000006)\n",
      "Epoch 029/030 | Loss 0.0263 | Win/lose count 7.0/28.800000000000008 (-21.800000000000008)\n",
      "Epoch 029/030 | Loss 0.0444 | Win/lose count 7.0/29.500000000000007 (-22.500000000000007)\n",
      "Epoch 029/030 | Loss 0.0298 | Win/lose count 7.0/30.200000000000006 (-23.200000000000006)\n",
      "Epoch 029/030 | Loss 0.0276 | Win/lose count 7.0/31.000000000000007 (-24.000000000000007)\n",
      "Epoch 029/030 | Loss 0.0483 | Win/lose count 7.0/31.800000000000008 (-24.800000000000008)\n",
      "Epoch 029/030 | Loss 0.0377 | Win/lose count 7.0/32.70000000000001 (-25.70000000000001)\n",
      "Epoch 029/030 | Loss 0.0381 | Win/lose count 7.0/33.60000000000001 (-26.60000000000001)\n",
      "Epoch 029/030 | Loss 0.0552 | Win/lose count 7.5/33.60000000000001 (-26.10000000000001)\n",
      "Epoch 029/030 | Loss 0.0420 | Win/lose count 7.5/33.60000000000001 (-26.10000000000001)\n",
      "Epoch 029/030 | Loss 0.0449 | Win/lose count 7.5/34.60000000000001 (-27.10000000000001)\n",
      "Epoch 029/030 | Loss 0.0348 | Win/lose count 7.5/34.60000000000001 (-27.10000000000001)\n",
      "Epoch 029/030 | Loss 0.0256 | Win/lose count 8.0/34.60000000000001 (-26.60000000000001)\n",
      "Epoch 029/030 | Loss 0.0419 | Win/lose count 8.0/34.60000000000001 (-26.60000000000001)\n",
      "Epoch 029/030 | Loss 0.0439 | Win/lose count 8.0/34.70000000000001 (-26.70000000000001)\n",
      "Epoch 029/030 | Loss 0.0458 | Win/lose count 8.5/34.70000000000001 (-26.20000000000001)\n",
      "Epoch 029/030 | Loss 0.0280 | Win/lose count 9.0/34.70000000000001 (-25.70000000000001)\n",
      "Epoch 029/030 | Loss 0.0368 | Win/lose count 9.0/34.80000000000001 (-25.80000000000001)\n",
      "Epoch 029/030 | Loss 0.0282 | Win/lose count 9.0/35.000000000000014 (-26.000000000000014)\n",
      "Epoch 029/030 | Loss 0.0439 | Win/lose count 9.5/35.000000000000014 (-25.500000000000014)\n",
      "Epoch 029/030 | Loss 0.0242 | Win/lose count 9.5/35.000000000000014 (-25.500000000000014)\n",
      "Epoch 029/030 | Loss 0.0382 | Win/lose count 9.5/35.100000000000016 (-25.600000000000016)\n",
      "Epoch 029/030 | Loss 0.0340 | Win/lose count 9.5/35.20000000000002 (-25.700000000000017)\n",
      "Epoch 029/030 | Loss 0.0342 | Win/lose count 9.5/35.40000000000002 (-25.90000000000002)\n",
      "Epoch 029/030 | Loss 0.0306 | Win/lose count 9.5/35.60000000000002 (-26.100000000000023)\n",
      "Epoch 029/030 | Loss 0.0348 | Win/lose count 9.5/35.90000000000002 (-26.40000000000002)\n",
      "Epoch 029/030 | Loss 0.0266 | Win/lose count 9.5/36.20000000000002 (-26.700000000000017)\n",
      "Epoch 029/030 | Loss 0.0260 | Win/lose count 9.5/36.600000000000016 (-27.100000000000016)\n",
      "Epoch 029/030 | Loss 0.0368 | Win/lose count 9.5/37.000000000000014 (-27.500000000000014)\n",
      "Epoch 029/030 | Loss 0.0418 | Win/lose count 9.5/37.500000000000014 (-28.000000000000014)\n",
      "Epoch 029/030 | Loss 0.0310 | Win/lose count 9.5/38.000000000000014 (-28.500000000000014)\n",
      "Epoch 029/030 | Loss 0.0178 | Win/lose count 9.5/38.600000000000016 (-29.100000000000016)\n",
      "Epoch 029/030 | Loss 0.0367 | Win/lose count 9.5/39.20000000000002 (-29.700000000000017)\n",
      "Epoch 029/030 | Loss 0.0381 | Win/lose count 9.5/39.90000000000002 (-30.40000000000002)\n",
      "Epoch 029/030 | Loss 0.0440 | Win/lose count 9.5/40.60000000000002 (-31.100000000000023)\n",
      "Epoch 029/030 | Loss 0.0393 | Win/lose count 9.5/41.40000000000002 (-31.90000000000002)\n",
      "Epoch 029/030 | Loss 0.0356 | Win/lose count 9.5/42.20000000000002 (-32.70000000000002)\n",
      "Epoch 029/030 | Loss 0.0373 | Win/lose count 9.5/43.100000000000016 (-33.600000000000016)\n",
      "Epoch 029/030 | Loss 0.0344 | Win/lose count 9.5/43.40000000000001 (-33.90000000000001)\n",
      "Epoch 029/030 | Loss 0.0362 | Win/lose count 9.5/44.40000000000001 (-34.90000000000001)\n",
      "Epoch 029/030 | Loss 0.0327 | Win/lose count 9.5/44.80000000000001 (-35.30000000000001)\n",
      "Epoch 029/030 | Loss 0.0556 | Win/lose count 9.5/45.90000000000001 (-36.40000000000001)\n",
      "Epoch 029/030 | Loss 0.0440 | Win/lose count 9.5/46.40000000000001 (-36.90000000000001)\n",
      "Epoch 029/030 | Loss 0.0578 | Win/lose count 9.5/47.40000000000001 (-37.90000000000001)\n",
      "Epoch 029/030 | Loss 0.0371 | Win/lose count 9.5/47.500000000000014 (-38.000000000000014)\n",
      "Epoch 029/030 | Loss 0.0304 | Win/lose count 9.5/47.600000000000016 (-38.100000000000016)\n",
      "Epoch 029/030 | Loss 0.0390 | Win/lose count 9.5/48.20000000000002 (-38.70000000000002)\n",
      "Epoch 029/030 | Loss 0.0454 | Win/lose count 9.5/48.40000000000002 (-38.90000000000002)\n",
      "Epoch 029/030 | Loss 0.0417 | Win/lose count 9.5/48.60000000000002 (-39.10000000000002)\n",
      "Epoch 029/030 | Loss 0.0632 | Win/lose count 9.5/48.90000000000002 (-39.40000000000002)\n",
      "Epoch 029/030 | Loss 0.0482 | Win/lose count 9.5/49.60000000000002 (-40.10000000000002)\n",
      "Epoch 029/030 | Loss 0.0547 | Win/lose count 9.5/50.00000000000002 (-40.50000000000002)\n",
      "Epoch 029/030 | Loss 0.0379 | Win/lose count 9.5/50.30000000000002 (-40.80000000000002)\n",
      "Epoch 029/030 | Loss 0.0332 | Win/lose count 9.5/50.80000000000002 (-41.30000000000002)\n",
      "Epoch 029/030 | Loss 0.0385 | Win/lose count 9.5/50.80000000000002 (-41.30000000000002)\n",
      "Epoch 029/030 | Loss 0.0299 | Win/lose count 9.5/50.80000000000002 (-41.30000000000002)\n",
      "Epoch 029/030 | Loss 0.0236 | Win/lose count 10.0/50.80000000000002 (-40.80000000000002)\n",
      "Epoch 029/030 | Loss 0.0531 | Win/lose count 10.0/50.80000000000002 (-40.80000000000002)\n",
      "Epoch 029/030 | Loss 0.0295 | Win/lose count 10.0/50.80000000000002 (-40.80000000000002)\n",
      "Epoch 029/030 | Loss 0.0424 | Win/lose count 10.0/51.80000000000002 (-41.80000000000002)\n",
      "Epoch 029/030 | Loss 0.0532 | Win/lose count 10.0/51.90000000000002 (-41.90000000000002)\n",
      "Epoch 029/030 | Loss 0.0302 | Win/lose count 10.0/52.00000000000002 (-42.00000000000002)\n",
      "Epoch 029/030 | Loss 0.0350 | Win/lose count 10.0/52.200000000000024 (-42.200000000000024)\n",
      "Epoch 029/030 | Loss 0.0247 | Win/lose count 10.0/52.300000000000026 (-42.300000000000026)\n",
      "Epoch 029/030 | Loss 0.0481 | Win/lose count 10.0/52.40000000000003 (-42.40000000000003)\n",
      "Epoch 029/030 | Loss 0.0414 | Win/lose count 10.0/52.50000000000003 (-42.50000000000003)\n",
      "Epoch 029/030 | Loss 0.0494 | Win/lose count 10.0/52.60000000000003 (-42.60000000000003)\n",
      "Epoch 029/030 | Loss 0.0302 | Win/lose count 10.0/52.80000000000003 (-42.80000000000003)\n",
      "Epoch 029/030 | Loss 0.0335 | Win/lose count 10.0/53.000000000000036 (-43.000000000000036)\n",
      "Epoch 029/030 | Loss 0.0340 | Win/lose count 10.0/53.30000000000003 (-43.30000000000003)\n",
      "Epoch 029/030 | Loss 0.0197 | Win/lose count 10.0/53.60000000000003 (-43.60000000000003)\n",
      "Epoch 029/030 | Loss 0.0261 | Win/lose count 10.0/54.00000000000003 (-44.00000000000003)\n",
      "Epoch 029/030 | Loss 0.0264 | Win/lose count 10.0/54.40000000000003 (-44.40000000000003)\n",
      "Epoch 029/030 | Loss 0.0431 | Win/lose count 10.0/55.40000000000003 (-45.40000000000003)\n",
      "Epoch 029/030 | Loss 0.0214 | Win/lose count 10.0/55.40000000000003 (-45.40000000000003)\n",
      "Epoch 029/030 | Loss 0.0550 | Win/lose count 10.0/56.40000000000003 (-46.40000000000003)\n",
      "Epoch 029/030 | Loss 0.0359 | Win/lose count 10.5/56.40000000000003 (-45.90000000000003)\n",
      "Epoch 029/030 | Loss 0.0502 | Win/lose count 10.5/56.50000000000003 (-46.00000000000003)\n",
      "Epoch 029/030 | Loss 0.0269 | Win/lose count 10.5/56.60000000000003 (-46.10000000000003)\n",
      "Epoch 029/030 | Loss 0.0330 | Win/lose count 10.5/56.60000000000003 (-46.10000000000003)\n",
      "Epoch 029/030 | Loss 0.0275 | Win/lose count 10.5/57.60000000000003 (-47.10000000000003)\n",
      "Epoch 029/030 | Loss 0.0315 | Win/lose count 10.5/57.70000000000003 (-47.20000000000003)\n",
      "Epoch 029/030 | Loss 0.0469 | Win/lose count 10.5/57.900000000000034 (-47.400000000000034)\n",
      "Epoch 029/030 | Loss 0.0374 | Win/lose count 10.5/58.10000000000004 (-47.60000000000004)\n",
      "Epoch 029/030 | Loss 0.0471 | Win/lose count 10.5/58.10000000000004 (-47.60000000000004)\n",
      "Epoch 029/030 | Loss 0.0374 | Win/lose count 10.5/58.20000000000004 (-47.70000000000004)\n",
      "Epoch 029/030 | Loss 0.0255 | Win/lose count 10.5/58.30000000000004 (-47.80000000000004)\n",
      "Epoch 029/030 | Loss 0.0241 | Win/lose count 10.5/58.60000000000004 (-48.10000000000004)\n",
      "Epoch 029/030 | Loss 0.0284 | Win/lose count 10.5/58.70000000000004 (-48.20000000000004)\n",
      "Epoch 029/030 | Loss 0.0317 | Win/lose count 10.5/59.10000000000004 (-48.60000000000004)\n",
      "Epoch 029/030 | Loss 0.0414 | Win/lose count 10.5/59.400000000000034 (-48.900000000000034)\n",
      "Epoch 029/030 | Loss 0.0317 | Win/lose count 10.5/59.500000000000036 (-49.000000000000036)\n",
      "Epoch 029/030 | Loss 0.0275 | Win/lose count 10.5/59.60000000000004 (-49.10000000000004)\n",
      "Epoch 029/030 | Loss 0.0218 | Win/lose count 10.5/59.80000000000004 (-49.30000000000004)\n"
     ]
    },
    {
     "name": "stdout",
     "output_type": "stream",
     "text": [
      "Epoch 029/030 | Loss 0.0262 | Win/lose count 10.5/60.20000000000004 (-49.70000000000004)\n",
      "Epoch 029/030 | Loss 0.0417 | Win/lose count 10.5/60.70000000000004 (-50.20000000000004)\n"
     ]
    }
   ],
   "source": [
    "# Training\n",
    "env = EnvironmentExploring(grid_size=size, max_time=T, temperature=0.3)\n",
    "agent = DQN_CNN(size, lr=.1, epsilon = 0.9, memory_size=2000, batch_size = 32,n_state=3)\n",
    "train_explore(agent, env, epochs_train, prefix='cnn_train_explore')\n",
    "#HTML(display_videos('cnn_train_explore80.mp4'))"
   ]
  },
  {
   "cell_type": "code",
   "execution_count": 20,
   "metadata": {},
   "outputs": [
    {
     "name": "stdout",
     "output_type": "stream",
     "text": [
      "Win/lose count 15.5/5.0. Average score (10.5)\n",
      "Win/lose count 12.5/7.0. Average score (8.0)\n",
      "Win/lose count 9.0/6.0. Average score (6.333333333333333)\n",
      "Win/lose count 15.0/12.0. Average score (5.5)\n",
      "Win/lose count 13.5/4.0. Average score (6.3)\n",
      "Win/lose count 4.5/3.0. Average score (5.5)\n",
      "Win/lose count 13.0/4.0. Average score (6.0)\n",
      "Win/lose count 7.5/8.0. Average score (5.1875)\n",
      "Win/lose count 9.0/3.0. Average score (5.277777777777778)\n",
      "Win/lose count 15.0/5.0. Average score (5.75)\n",
      "Final score: 5.75\n"
     ]
    },
    {
     "data": {
      "text/html": [
       "<video alt=\"test\" controls>\n",
       "                <source src=\"data:video/mp4;base64,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\" type=\"video/mp4\" />\n",
       "             </video>"
      ],
      "text/plain": [
       "<IPython.core.display.HTML object>"
      ]
     },
     "execution_count": 20,
     "metadata": {},
     "output_type": "execute_result"
    }
   ],
   "source": [
    "# Evaluation\n",
    "test(agent,env,epochs_test,prefix='cnn_test_explore')\n",
    "HTML(display_videos('cnn_test_explore0.mp4'))"
   ]
  },
  {
   "cell_type": "markdown",
   "metadata": {},
   "source": [
    " "
   ]
  },
  {
   "cell_type": "markdown",
   "metadata": {},
   "source": [
    " "
   ]
  },
  {
   "cell_type": "markdown",
   "metadata": {},
   "source": [
    "***"
   ]
  }
 ],
 "metadata": {
  "kernelspec": {
   "display_name": "Python 3",
   "language": "python",
   "name": "python3"
  },
  "language_info": {
   "codemirror_mode": {
    "name": "ipython",
    "version": 3
   },
   "file_extension": ".py",
   "mimetype": "text/x-python",
   "name": "python",
   "nbconvert_exporter": "python",
   "pygments_lexer": "ipython3",
   "version": "3.7.2"
  }
 },
 "nbformat": 4,
 "nbformat_minor": 2
}
